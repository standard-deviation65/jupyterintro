{
 "cells": [
  {
   "cell_type": "markdown",
   "metadata": {},
   "source": [
    "# 2. Programmieren in Python"
   ]
  },
  {
   "cell_type": "markdown",
   "metadata": {},
   "source": [
    "## 2.1. Kontrollstrukturen"
   ]
  },
  {
   "cell_type": "markdown",
   "metadata": {},
   "source": [
    "Kontrollstrukturen sind in Python nicht anders aufgebaut als in den meisten Programmiersprachen. Anweisungen, die untereinander geschrieben werden, werden auch in dieser Reihenfolge ausgeführt. Das ist sozusagen die Grundregel."
   ]
  },
  {
   "cell_type": "code",
   "execution_count": 1,
   "metadata": {},
   "outputs": [
    {
     "name": "stdout",
     "output_type": "stream",
     "text": [
      "Ich bin die erste Anweisung\n",
      "Ich bin die zweite Anweisung\n"
     ]
    }
   ],
   "source": [
    "print('Ich bin die erste Anweisung')\n",
    "print('Ich bin die zweite Anweisung')"
   ]
  },
  {
   "cell_type": "markdown",
   "metadata": {},
   "source": [
    "Dies nennt man eine Sequenz von Anweisungen (Befehlen). Diese können aber auch bedingt ausgeführt werden. Hierzu ist die if-Anweisung die einfachste Kontrollstruktur:"
   ]
  },
  {
   "cell_type": "code",
   "execution_count": 4,
   "metadata": {},
   "outputs": [
    {
     "name": "stdout",
     "output_type": "stream",
     "text": [
      "Ich bin im Ziel. Erster\n",
      "Ich bin gestolpert. Letzter, obwohl ich als Zweiter gestartet bin. Oder?\n",
      "Ich bin im Ziel. Zweiter.\n"
     ]
    }
   ],
   "source": [
    "gestolpert = False\n",
    "if gestolpert == False:\n",
    "    print('Ich bin im Ziel. Erster')    # ein Block. Einrückung nötig, gut wären 4 Leerzeichen\n",
    "gestolpert = True\n",
    "if gestolpert == True:\n",
    "    print('Ich bin gestolpert. Letzter, obwohl ich als Zweiter gestartet bin. Oder?')\n",
    "gestolpert = False\n",
    "if gestolpert == False:\n",
    "    print('Ich bin im Ziel. Zweiter.')"
   ]
  },
  {
   "cell_type": "markdown",
   "metadata": {},
   "source": [
    "Hier wird innerhalb der if-Anweisung geprüft, ob die Variable gestolpert den Wer True hat. Nur dann wird die eingerückte Anweisung darunter nicht ausgeführt. Insofern ist die Frage am Ende des zweiten print-Befehls berechtigt, denn tatsächlich wurde dieser Befehlt gar nicht ausgeführt bzw. gestartet. Wenn wir uns den Programmablauf anschauen, verzeigt dieser je if-Antweisung genau einmal in den zur if-Anweisung gehörenden eingerückten Block und zwar nur dannn, wenn die Bedingung erfüllt ist. Man nennt dies daher auch eine einseitige Verzweigung.\n",
    "\n",
    "Sprachlich kann man formulieren: \"Wenn die Bedingung erfüllt ist, dann führe die Anweisungen im Block aus, andernfalls fahre darunter fort.\" Eine zweiseitige Verzweigung formuliert man dagegen so: \"Wenn die Bedingung erfüllt ist, dann führe den Programmblock aus, andernfalls führe einen anderen Programmblock aus.\" Hierfür ist das if-else-Konstrukt gedacht:"
   ]
  },
  {
   "cell_type": "code",
   "execution_count": 3,
   "metadata": {},
   "outputs": [
    {
     "name": "stdout",
     "output_type": "stream",
     "text": [
      "Hallo Frederick!\n"
     ]
    }
   ],
   "source": [
    "besucher = 'Frederick'\n",
    "if besucher != 'Frederick':\n",
    "    print('Sie sind nicht Frederick!')\n",
    "else:\n",
    "    print('Hallo Frederick!')"
   ]
  },
  {
   "cell_type": "markdown",
   "metadata": {},
   "source": [
    "Innerhalb eines else-Blocks kann man natürlich weitere if- oder if-else-Konstrukte verwenden. Übersichtlicher geht es jedoch mit der elif-Anweisung (dies steht für else-if). Wir vergleichen:"
   ]
  },
  {
   "cell_type": "code",
   "execution_count": 9,
   "metadata": {},
   "outputs": [
    {
     "name": "stdout",
     "output_type": "stream",
     "text": [
      "Gerade Zahl\n",
      "fertig\n"
     ]
    }
   ],
   "source": [
    "# Mit else und if:\n",
    "zahl = 6\n",
    "if zahl % 2 == 0:              # Glatt durch 2 teilbar?\n",
    "    print('Gerade Zahl')\n",
    "else:\n",
    "    if zahl % 9 == 0:\n",
    "        print('Glatt durch 9 teilbar')\n",
    "    else:\n",
    "        print('Nicht glatt durch 9 teilbar')\n",
    "print('fertig')"
   ]
  },
  {
   "cell_type": "code",
   "execution_count": 11,
   "metadata": {},
   "outputs": [
    {
     "name": "stdout",
     "output_type": "stream",
     "text": [
      "Glatt durch 9 teilbar\n",
      "fertig\n"
     ]
    }
   ],
   "source": [
    "# Mit elif:\n",
    "zahl = 99\n",
    "if zahl % 2 == 0:              # Glatt durch 2 teilbar?\n",
    "    print('Gerade Zahl')\n",
    "elif zahl % 9 == 0:\n",
    "        print('Glatt durch 9 teilbar')\n",
    "else:\n",
    "        print('Nicht glatt durch 9 teilbar')\n",
    "print('fertig')"
   ]
  },
  {
   "cell_type": "markdown",
   "metadata": {},
   "source": [
    "Was fragen wir da eigentlich ab? Ist 90 z.B. nicht durch 9 teilbar und trotzdem eine gerade Zahl? Tatsächlich gibt es hier scheinbar einen logischen Fehler. Aber in diesem Fall nicht wirklich, denn die die Anweisung lautet hier ganz bewusst: \"Wenn die Zahl durch 2 teilbar ist, dann gebe dies aus. Ansonsten (und nur dann) überprüfe ob die Zahl durch 9 teilbar ist.\" - Probieren Sie Werte aus! Das Beispiel wurde gerade so gewählt, weil es wichtig ist, die Logik dahinter zu verstehen. Mit der elif-Anweisung können also mehrfache Fallunterscheidungen getroffen werden.\n",
    "\n",
    "Häufig ist es sinnvoll, bestimmte Anweisungen abhängig von einer Bedingung mehrfach auszuführen. es währe sehr aufwendig, dies mit einer if-Anweisung zu tun. Hierfür gibt es zwei Anweisungen in Python. Die erste ist die while-Schleife:"
   ]
  },
  {
   "cell_type": "code",
   "execution_count": 13,
   "metadata": {},
   "outputs": [
    {
     "name": "stdout",
     "output_type": "stream",
     "text": [
      "1\n",
      "2\n",
      "3\n",
      "4\n",
      "5\n",
      "6\n",
      "7\n",
      "8\n",
      "9\n",
      "10\n"
     ]
    }
   ],
   "source": [
    "i=1\n",
    "while i <= 10:\n",
    "    print(i)\n",
    "    i += 1"
   ]
  },
  {
   "cell_type": "markdown",
   "metadata": {},
   "source": [
    "Solange die Bedingung hinter while erfüllt ist, wird der darunter stehende eingerückte Block ausgeführt. Wir können die Schleife (so nennt man dieses Programmkonstrukt, weil es immer wieder zurückspringt auf den Startpunkt, die while-Anweisung) auch abrechen lassen. Das Programm wird dann unterhalb des zur while-Anweisung gehörenden Blocks fortgeführt. Sinn macht das nur mit Verwendung einer Bedingung:"
   ]
  },
  {
   "cell_type": "code",
   "execution_count": 1,
   "metadata": {},
   "outputs": [
    {
     "name": "stdout",
     "output_type": "stream",
     "text": [
      "1\n",
      "2\n",
      "3\n",
      "4\n",
      "5\n"
     ]
    }
   ],
   "source": [
    "i=1\n",
    "while i <= 10:\n",
    "    print(i)\n",
    "    i += 1\n",
    "    if i == 6:\n",
    "        break"
   ]
  },
  {
   "cell_type": "markdown",
   "metadata": {
    "collapsed": true
   },
   "source": [
    "Solche Abbruchbedingungen können das Erreichen eines bestimmten Zielwertes bei einer Berechnung sein oder aber auch eine Tastatureingabe, die zum Abbruch führen soll.\n",
    "\n",
    "Vorsicht ist geboten, wenn es um die Vermeidung von Endlosschleifen geht. Ist nämlich die Bedingung immer erfüllt, wird die Schleife natürlich immer ausgeführt. Besonders häufig tritt dieser Fehler auf, wenn es um das Rechnen mit Fließkommazahlen geht. Diese haben nämlich nur eine endliche Genauigkeit, so dass die Ergebnisse manchmal nicht ganz genau dem erwarteten (mathematisch korrekten) Wert entsprechen:"
   ]
  },
  {
   "cell_type": "code",
   "execution_count": 8,
   "metadata": {},
   "outputs": [
    {
     "data": {
      "text/plain": [
       "0.4000000000000001"
      ]
     },
     "execution_count": 8,
     "metadata": {},
     "output_type": "execute_result"
    }
   ],
   "source": [
    "1.0-0.2-0.2-0.2                    # Hätten wir hier die Bedingung zahl != 0.4 einbauen sollen?"
   ]
  },
  {
   "cell_type": "markdown",
   "metadata": {},
   "source": [
    "Eine weitere Möglichkeit, Schleifen zu bauen, ist die for-Anweisung. Sie iteriert über Kollektionen (zu denen wir später kommen). Im Zusammenhang mit der Generatorfunktion range() ergibt sie eine simple Möglichkeit für Zählschleifen:"
   ]
  },
  {
   "cell_type": "code",
   "execution_count": 10,
   "metadata": {},
   "outputs": [
    {
     "name": "stdout",
     "output_type": "stream",
     "text": [
      "0   1   2   3   4   5   6   7   8   9   Ende\n"
     ]
    }
   ],
   "source": [
    "for i in range(10):\n",
    "    print(i, end=\"   \")\n",
    "print('Ende')"
   ]
  },
  {
   "cell_type": "markdown",
   "metadata": {},
   "source": [
    "Auch for-Schleifen können mit der break-Anweisung abgebrochen werden. Zudem können for-Schleifen verschachtelt sein:"
   ]
  },
  {
   "cell_type": "code",
   "execution_count": 13,
   "metadata": {},
   "outputs": [
    {
     "name": "stdout",
     "output_type": "stream",
     "text": [
      "0  0  0  0  0  0  0  0  0  0  0  1  2  3  4  5  6  7  8  9  0  3  6  9  12  15  18  21  24  27  0  4  8  12  16  20  24  28  32  36  0  5  10  15  20  25  30  35  40  45  0  6  12  18  24  30  36  42  48  54  0  7  14  21  28  35  42  49  56  63  0  8  16  24  32  40  48  56  64  72  0  9  18  27  36  45  54  63  72  81  "
     ]
    }
   ],
   "source": [
    "for i in range(10):\n",
    "    for j in range(10):\n",
    "        if i == 2 :                # doch nur bis i == 2\n",
    "            break\n",
    "        print(i*j, end=\"  \")"
   ]
  },
  {
   "cell_type": "markdown",
   "metadata": {},
   "source": [
    "An der Ausgabe kann man sehr schon den Programmverlauf erkennen. Es beginnt mit dem ersten Durchlauf der äußeren Schleife, bei dem i gleich 0 ist. Dann werden zehn Durchläufe der inneren Schleife durchgeführt. Die Berechnungen sind also 0*0, 0*1, 0*2 usw.\n",
    "\n",
    "Die continue-Anweisung lässt den aktuellen Schleifendurchlauf abbrechen und den nächsten beginnen, es sei denn, es ist der letzte Durchlauf gewesen. Übrigens funktioniert diese Anweisung auch bei while-Schleifen."
   ]
  },
  {
   "cell_type": "code",
   "execution_count": 14,
   "metadata": {},
   "outputs": [
    {
     "name": "stdout",
     "output_type": "stream",
     "text": [
      "0\n",
      "1\n",
      "2\n",
      "3\n",
      "4\n",
      "6\n",
      "7\n",
      "8\n",
      "9\n"
     ]
    }
   ],
   "source": [
    "for i in range(10):\n",
    "    if i == 5:           # Die 5 wird ausgelassen\n",
    "        continue\n",
    "    print(i)"
   ]
  },
  {
   "cell_type": "markdown",
   "metadata": {},
   "source": [
    "Eine der wichtigsten Kontrollstrukturen sind dem Abfangen von Laufzeitfehlern gewidmet. Laufzeitfehler, also Fehler, die auftreten, während das Programm bereits läuft, können fatal sein, denn sie bewirken (unbehandelt) einen Abbruch des Programms. Das ist vielleicht irrelevant, wenn ich einen Python Dreizeiler schreibe, um ihn in einem Tutorial zu verwenden: Ich merke es dann ja rechtzeitig und korrigiere lange vor der Veröffentlichung des Tutorials. Aber was, wenn der Fehler auftritt, während ein autonom fahrendes Auto über die Autobahn düst? Ein klassisches Beispiel ist der \"Devison by zero - error\":"
   ]
  },
  {
   "cell_type": "code",
   "execution_count": 6,
   "metadata": {},
   "outputs": [
    {
     "ename": "ZeroDivisionError",
     "evalue": "division by zero",
     "output_type": "error",
     "traceback": [
      "\u001b[1;31m---------------------------------------------------------------------------\u001b[0m",
      "\u001b[1;31mZeroDivisionError\u001b[0m                         Traceback (most recent call last)",
      "\u001b[1;32m<ipython-input-6-d5188adc677f>\u001b[0m in \u001b[0;36m<module>\u001b[1;34m()\u001b[0m\n\u001b[0;32m      1\u001b[0m \u001b[0mx\u001b[0m \u001b[1;33m=\u001b[0m \u001b[1;36m0\u001b[0m\u001b[1;33m\u001b[0m\u001b[0m\n\u001b[0;32m      2\u001b[0m \u001b[0my\u001b[0m \u001b[1;33m=\u001b[0m \u001b[1;36m12\u001b[0m\u001b[1;33m\u001b[0m\u001b[0m\n\u001b[1;32m----> 3\u001b[1;33m \u001b[0mz\u001b[0m \u001b[1;33m=\u001b[0m \u001b[0my\u001b[0m\u001b[1;33m/\u001b[0m\u001b[0mx\u001b[0m\u001b[1;33m\u001b[0m\u001b[0m\n\u001b[0m\u001b[0;32m      4\u001b[0m \u001b[0mprint\u001b[0m\u001b[1;33m(\u001b[0m\u001b[1;34m'Nicht durch Null teilen!'\u001b[0m\u001b[1;33m)\u001b[0m\u001b[1;33m\u001b[0m\u001b[0m\n",
      "\u001b[1;31mZeroDivisionError\u001b[0m: division by zero"
     ]
    }
   ],
   "source": [
    "x = 0\n",
    "y = 12\n",
    "z = y/x\n",
    "print('Nicht durch Null teilen!')"
   ]
  },
  {
   "cell_type": "markdown",
   "metadata": {},
   "source": [
    "Vielleicht sagen Sie: \"Durch Null kann man nicht teilen! Das lernt man doch in der Schule! Aber wir haben hier nicht bedacht, dass die Softwäre nur näherungsweise genau sind, also auch ein \"ganz nahe an Null\" einen solchen Fehler auslösen kann. Mit dem try-except-Konstrukt wird der Fehler abgefangen. \"Abfangen\" meint, dass kein Programmabbruch erfolgt:"
   ]
  },
  {
   "cell_type": "code",
   "execution_count": 5,
   "metadata": {},
   "outputs": [
    {
     "name": "stdout",
     "output_type": "stream",
     "text": [
      "Nicht durch Null teilen!\n"
     ]
    }
   ],
   "source": [
    "x = 0\n",
    "y = 12\n",
    "try:\n",
    "    z = y/x\n",
    "except ZeroDivisionError:\n",
    "    print('Nicht durch Null teilen!')"
   ]
  },
  {
   "cell_type": "markdown",
   "metadata": {},
   "source": [
    "Der entscheidende Unterschied zu der obigen unbehandelten Fehlermeldung ist die hier doch ausgeführte print()-Anweisung. Jedoch sollte hier, statt einem simplen Hinweis, eine programmierte Fehlerbehandlung stehen. Noch ein kurzer Hinweis: In Produktionssystemen sollte das Abfangen von Fehler insbesondere beim Datei-Zugriffen erfolgen. Immer! \n",
    "\n",
    "Hier noch der kurze Hinweis, dass mehr als eine except-Anweisung auf eine try-Anweisung folgen kann. Es könnten halt mehr als nur ein Fehler gleichzeitig passieren. Und, ganz wichtig: Die Anweisung \"except:\" (ohne Definition des Fehlers, also z.B ZeroDivisionError) fängt alle Laufzeitfehler ab. Wenn der Sinn des Abfangens von Laufzeitfehlern der ist, dass man die Fehler im Programm (zur Laufzeit!) behandelt, welchen Sinn kann dann ein allgemeines Abfangen haben? Grundsätlich gilt daher eine zu allgemeine Fehlerbehandlung als extrem schlechter Programmierstil."
   ]
  },
  {
   "cell_type": "markdown",
   "metadata": {},
   "source": [
    "## 2.1. Objekte\n",
    "\n",
    "In Python werden Daten und Funktionen, sowie einige andere Sprachelemente, als Objekte aufgefasst. In der objektorientierten Programmierung (OOP) werden Daten und Funktionalität zusammengefasst, d.h. ein Objekt enthält neben den Daten auch den für ihre Manipulation vorgesehenen Code. Durch dieses Prinzip der Kapselung (Daten und zugehöriger Code werden in einer Struktur zusammengefasst) ist eine gute Wartbarkeit gegeben, daneben ergibt sich aber auch unter anderem der Vorteil eines leichten Einbaus oder Austausches von „Softwareteilen“. Darüber hinaus erleichtern die Konzepte „Polymorphismus“ und natürlich „Vererbung“ die Entwicklung einer Software.\n",
    "Jedes Objekt gehört einem bestimmten Typ an, in der OOP „Klasse“ genannt. Die Klasse ist das Template für die Objekte und gibt die Funktionalität vor.\n",
    "Wir untersuchen erst einmal ein paar Daten auf ihren Typ bzw. ihre Klasse:"
   ]
  },
  {
   "cell_type": "code",
   "execution_count": 1,
   "metadata": {},
   "outputs": [
    {
     "data": {
      "text/plain": [
       "int"
      ]
     },
     "execution_count": 1,
     "metadata": {},
     "output_type": "execute_result"
    }
   ],
   "source": [
    "type(1)"
   ]
  },
  {
   "cell_type": "code",
   "execution_count": 2,
   "metadata": {},
   "outputs": [
    {
     "data": {
      "text/plain": [
       "float"
      ]
     },
     "execution_count": 2,
     "metadata": {},
     "output_type": "execute_result"
    }
   ],
   "source": [
    "type(1.0)"
   ]
  },
  {
   "cell_type": "code",
   "execution_count": 3,
   "metadata": {},
   "outputs": [
    {
     "data": {
      "text/plain": [
       "str"
      ]
     },
     "execution_count": 3,
     "metadata": {},
     "output_type": "execute_result"
    }
   ],
   "source": [
    "type('1')"
   ]
  },
  {
   "cell_type": "markdown",
   "metadata": {},
   "source": [
    "Die Funktion type() liefert den Typ, also die Klasse, zurück. Hier sind es „Integer“ (Ganzzahl), „Floating Point“ (Fließkommazahl) und „String“ (Text, alphanumerische Zeichenfolge inklusive Sonderzeichen, Satzzeichen, Leerzeichen).\n",
    "Nach dem zuvor Gesagten sollte sich dann die vorhandene Funktionalität für die drei Klassen unterscheiden. "
   ]
  },
  {
   "cell_type": "code",
   "execution_count": 4,
   "metadata": {},
   "outputs": [
    {
     "data": {
      "text/plain": [
       "'abcd'"
      ]
     },
     "execution_count": 4,
     "metadata": {},
     "output_type": "execute_result"
    }
   ],
   "source": [
    "'AbCd'.lower()"
   ]
  },
  {
   "cell_type": "code",
   "execution_count": 5,
   "metadata": {},
   "outputs": [
    {
     "ename": "SyntaxError",
     "evalue": "invalid syntax (<ipython-input-5-6865f9885b74>, line 1)",
     "output_type": "error",
     "traceback": [
      "\u001b[1;36m  File \u001b[1;32m\"<ipython-input-5-6865f9885b74>\"\u001b[1;36m, line \u001b[1;32m1\u001b[0m\n\u001b[1;33m    123.lower()\u001b[0m\n\u001b[1;37m            ^\u001b[0m\n\u001b[1;31mSyntaxError\u001b[0m\u001b[1;31m:\u001b[0m invalid syntax\n"
     ]
    }
   ],
   "source": [
    "123.lower()"
   ]
  },
  {
   "cell_type": "markdown",
   "metadata": {},
   "source": [
    "Die Funtion lower() wandelt Großbuchstaben in Kleinbuchstaben um. Das macht angewandt auf einen Integerwert natürlich keinen Sinn. Diese Funtionalität haben Objekte vom Typ Integer also nicht und wir erhalten einen Fehler.\n",
    "\n",
    "Wie wir gesehen haben, besitzen Objekte Werte (1, 'ABC', 1.0) und einen Typ. In der OOP sagt man, sie gehören zu einer Klasse, also der Klasse String, Integer oder Float. Es gibt noch viel mehr in Python eingebaute Klassen und überdies kann man eigene Klassen entwerfen. Mehr dazu  in Kapitel 3.\n",
    "\n",
    "Eine dritte Eigenschaft der Objekte ist ihre identität. Dies bedeutet, dass jedem Objekt eine eindeutige Ganzzahl zugeordnet ist:"
   ]
  },
  {
   "cell_type": "code",
   "execution_count": 7,
   "metadata": {},
   "outputs": [
    {
     "data": {
      "text/plain": [
       "1585114480"
      ]
     },
     "execution_count": 7,
     "metadata": {},
     "output_type": "execute_result"
    }
   ],
   "source": [
    "id(30)"
   ]
  },
  {
   "cell_type": "code",
   "execution_count": 8,
   "metadata": {},
   "outputs": [
    {
     "data": {
      "text/plain": [
       "244856929504"
      ]
     },
     "execution_count": 8,
     "metadata": {},
     "output_type": "execute_result"
    }
   ],
   "source": [
    "id('abc')"
   ]
  },
  {
   "cell_type": "code",
   "execution_count": 9,
   "metadata": {},
   "outputs": [
    {
     "data": {
      "text/plain": [
       "244887164608"
      ]
     },
     "execution_count": 9,
     "metadata": {},
     "output_type": "execute_result"
    }
   ],
   "source": [
    "id(2.1416)"
   ]
  },
  {
   "cell_type": "markdown",
   "metadata": {},
   "source": [
    "Zwei Objekte können der selben Klasse angehören und den selben Wert haben ohne identisch zu sein.\n",
    "\n",
    "Neben diesen drei Eigenschaften scheint es noch eine vierte zu geben, nämlich den Namen. Hier trügt der Schein jedoch! Schauen wir uns einmal an, wie ein Objekt einen Namen bekommt:"
   ]
  },
  {
   "cell_type": "code",
   "execution_count": 10,
   "metadata": {},
   "outputs": [
    {
     "data": {
      "text/plain": [
       "42"
      ]
     },
     "execution_count": 10,
     "metadata": {},
     "output_type": "execute_result"
    }
   ],
   "source": [
    "meinezahl = 42\n",
    "meinezahl"
   ]
  },
  {
   "cell_type": "code",
   "execution_count": 11,
   "metadata": {},
   "outputs": [
    {
     "data": {
      "text/plain": [
       "int"
      ]
     },
     "execution_count": 11,
     "metadata": {},
     "output_type": "execute_result"
    }
   ],
   "source": [
    "type(meinezahl)"
   ]
  },
  {
   "cell_type": "markdown",
   "metadata": {},
   "source": [
    "Der Namen \"meinezahl\" ist eine Variable, wie sie auch in anderen Programmiersprachen, z.B. JAVA, verwendet wird. Diese Variable ist nicht Eigenschaft des Objektes, sondern eine Referenz auf dieses. auf welches Objekt die Variable verweist, kann sich im Programmcode ändern:"
   ]
  },
  {
   "cell_type": "code",
   "execution_count": 12,
   "metadata": {},
   "outputs": [
    {
     "data": {
      "text/plain": [
       "float"
      ]
     },
     "execution_count": 12,
     "metadata": {},
     "output_type": "execute_result"
    }
   ],
   "source": [
    "meinezahl = 42\n",
    "meinezahl = 4.2\n",
    "type(meinezahl)"
   ]
  },
  {
   "cell_type": "markdown",
   "metadata": {},
   "source": [
    "Wie wir sehen, haben wir der Variablen zuerst ein Objekt der Klasse Integer zugewiesen, danach eine Fließkommazahl.\n",
    "Nicht nur das referenzierte Objekt, sondern auch die Klasse des Objektes haben sich geändert. Dies ist ein Unterschied\n",
    "zu Programmiersprachen wie C++ oder JAVA, bei denen den Variablen der referenzierte Typ zugewiesen werden muss. Beispiel in JAVA:\n",
    "int meinezahl;\n",
    "...\n",
    "meinzahl = 42;\n",
    "Man sagt, die Variable muss deklariert werden. Die Deklaration kann schon vor der Zuweisung eines Obektes erfolgen und legt fest, welcher Typ von Objekten überhaupt referenziert werden kann.\n",
    "\n",
    "In Python dagegen wird das sogenannte \"duck typing\" (Googeln Sie das!) genutzt. Dies meint, dass Python den Typ (die Klasse) eines Objektes am Objekt selbst erkennt. Dies jedoch legt dem Programmierer eine schwere Verantwortung in die Hände. Stellen Sie sich vor, sie schreiben einen Programmcode, der mit \"meinezahl\" rechnen will. Es könnte dies passieren:"
   ]
  },
  {
   "cell_type": "code",
   "execution_count": 13,
   "metadata": {},
   "outputs": [
    {
     "ename": "TypeError",
     "evalue": "must be str, not int",
     "output_type": "error",
     "traceback": [
      "\u001b[1;31m---------------------------------------------------------------------------\u001b[0m",
      "\u001b[1;31mTypeError\u001b[0m                                 Traceback (most recent call last)",
      "\u001b[1;32m<ipython-input-13-0f962e891d02>\u001b[0m in \u001b[0;36m<module>\u001b[1;34m()\u001b[0m\n\u001b[0;32m      1\u001b[0m \u001b[0mmeinezahl\u001b[0m\u001b[1;33m=\u001b[0m\u001b[1;34m'42'\u001b[0m\u001b[1;33m\u001b[0m\u001b[0m\n\u001b[1;32m----> 2\u001b[1;33m \u001b[0mmeinezahl\u001b[0m\u001b[1;33m+\u001b[0m\u001b[1;36m2\u001b[0m\u001b[1;33m\u001b[0m\u001b[0m\n\u001b[0m",
      "\u001b[1;31mTypeError\u001b[0m: must be str, not int"
     ]
    }
   ],
   "source": [
    "meinezahl='42'\n",
    "meinezahl+2"
   ]
  },
  {
   "cell_type": "code",
   "execution_count": 15,
   "metadata": {},
   "outputs": [
    {
     "data": {
      "text/plain": [
       "44"
      ]
     },
     "execution_count": 15,
     "metadata": {},
     "output_type": "execute_result"
    }
   ],
   "source": [
    "meinezahl=42\n",
    "meinezahl+2"
   ]
  },
  {
   "cell_type": "markdown",
   "metadata": {},
   "source": [
    "Offensicht würde die Operation 42+2 Erfolg haben, wenn wir denn sicher sein könnten, dass \"meinezahl\" ein Integer ist.\n",
    "Bei einem Zweizeiler wie oben dürften kaum Fehler passieren, aber was, wenn in einem langen Programmcode irgendwo \"meinezahl\" ein Objekt des falschen Typs zugewiesen wurde? Um wenigstens in den einfachsten bzw. häufigsten Fehler abzudecken, kommt Python dem Progrmmierer entgegen:"
   ]
  },
  {
   "cell_type": "code",
   "execution_count": 16,
   "metadata": {},
   "outputs": [
    {
     "data": {
      "text/plain": [
       "42.1"
      ]
     },
     "execution_count": 16,
     "metadata": {},
     "output_type": "execute_result"
    }
   ],
   "source": [
    "meinezahl=42\n",
    "zuwachs=0.1\n",
    "meinezahl+zuwachs"
   ]
  },
  {
   "cell_type": "markdown",
   "metadata": {},
   "source": [
    "Die Addition von Integer und Float macht Sinn, die mit einem String nicht!\n",
    "\n",
    "Zum Schluss noch der Hinweis, dass Sie für \"Namen\" im oben genannten Sinne häufig neben der Bezeichnung \"Variable\" auch den allgemeineren Begriff \"Bezeichner\", englisch \"Identifier\", finden. Welche alphanumerischen Kombinationen bei der Verwendung von Bezeichnern erlaubt sind, ist vorgegeben!"
   ]
  },
  {
   "cell_type": "markdown",
   "metadata": {},
   "source": [
    "## 2.2. Anweisungen"
   ]
  },
  {
   "cell_type": "markdown",
   "metadata": {},
   "source": [
    "Wir haben unter 2.1. schon die einfachsten Anweisungen, die sogenannten Ausdrücke, kennengelernt. Ausdrücke sehen so aus:"
   ]
  },
  {
   "cell_type": "code",
   "execution_count": 17,
   "metadata": {},
   "outputs": [
    {
     "data": {
      "text/plain": [
       "'abcxyz'"
      ]
     },
     "execution_count": 17,
     "metadata": {},
     "output_type": "execute_result"
    }
   ],
   "source": [
    "'abc' + 'xyz'"
   ]
  },
  {
   "cell_type": "markdown",
   "metadata": {},
   "source": [
    "Wie wir sehen, wird die Addition von Strings ebenfalls mit dem \"+\" Zeichen unterstützt. Wir reden hier von einem sogenannten Operator, nämlich \"+\", der in Abhängigkeit von den zu manipulierenden Daten (bzw. deren Typ) entsprechend sinnvolle Ergebnisse liefert. Bei Strings ist es einfach das Aneinanderketten der Zeichenfolgen. Wie sieht es in der Mathematik aus?"
   ]
  },
  {
   "cell_type": "code",
   "execution_count": 18,
   "metadata": {},
   "outputs": [
    {
     "data": {
      "text/plain": [
       "163.36281798666926"
      ]
     },
     "execution_count": 18,
     "metadata": {},
     "output_type": "execute_result"
    }
   ],
   "source": [
    "import math\n",
    "2 * math.pi * 26"
   ]
  },
  {
   "cell_type": "markdown",
   "metadata": {},
   "source": [
    "Schön, der Umfang eines Wagenrades mit dem Radius 26cm wäre danach 163,4cm. Jupyter als Tschenrechner! Das kennen wir schon. Es gibt unterschiedliche Ausdrücke, z.B. kann man auf einer eher mathematischen Ebene arithmetische und logische Ausdrücke unterschieden:"
   ]
  },
  {
   "cell_type": "code",
   "execution_count": 19,
   "metadata": {},
   "outputs": [
    {
     "data": {
      "text/plain": [
       "42"
      ]
     },
     "execution_count": 19,
     "metadata": {},
     "output_type": "execute_result"
    }
   ],
   "source": [
    "6*7"
   ]
  },
  {
   "cell_type": "code",
   "execution_count": 20,
   "metadata": {},
   "outputs": [
    {
     "data": {
      "text/plain": [
       "False"
      ]
     },
     "execution_count": 20,
     "metadata": {},
     "output_type": "execute_result"
    }
   ],
   "source": [
    "'ich'=='du'"
   ]
  },
  {
   "cell_type": "code",
   "execution_count": 21,
   "metadata": {},
   "outputs": [
    {
     "data": {
      "text/plain": [
       "True"
      ]
     },
     "execution_count": 21,
     "metadata": {},
     "output_type": "execute_result"
    }
   ],
   "source": [
    "1==2-1"
   ]
  },
  {
   "cell_type": "code",
   "execution_count": 22,
   "metadata": {},
   "outputs": [
    {
     "data": {
      "text/plain": [
       "True"
      ]
     },
     "execution_count": 22,
     "metadata": {},
     "output_type": "execute_result"
    }
   ],
   "source": [
    "12>10"
   ]
  },
  {
   "cell_type": "markdown",
   "metadata": {},
   "source": [
    "6*7 ist eine einfache arithmetische Anweisung, die beiden Zahlen zu multiplizieren. Das zweite Beispiel ist ein Vergleich von zwei Zeichenketten und liefert einen boolschen Wert zurück. In Programmiersprachen werden diese boolschen Werte meist als \"True\" und \"False\" angegeben. Grundsätzlich könnten es aber auch 0 und 1 sein oder \"Ja\" und \"Nein\". Wenn man weiß, dass die kleinste Informationseinheit das Bit ist (0 oder 1) und Computer genau auf dieser mathematischen Basis funktionieren, versteht man die Bedeutung: Es geht um die maschinelle Fähigkeit zu entscheiden, ob etwas wahr oder falsch ist. Mit dieser Logik im Hinterkopf lässt sich rechnen. Die letzten beiden Beispiele zeigen den gleichen Ansatz für Zahlen. 2-1 ist 1, also wahr, und 12 ist größer als 10, also auch wahr. Wichtig: Das Ergebnis ist von Typ \"boolean\"(kurz: bool):"
   ]
  },
  {
   "cell_type": "code",
   "execution_count": 29,
   "metadata": {},
   "outputs": [
    {
     "data": {
      "text/plain": [
       "bool"
      ]
     },
     "execution_count": 29,
     "metadata": {},
     "output_type": "execute_result"
    }
   ],
   "source": [
    "b = 12<10\n",
    "type (b)"
   ]
  },
  {
   "cell_type": "markdown",
   "metadata": {},
   "source": [
    "Was für einen Wert hat nun die Variable b nach der Zuweisung der boolschen Ungleichung? Probieren Sie es aus!\n",
    "An dieser Stelle sei kurz auf die boolsche Algebra hingwiesen. Logische Ausdrücke können genau wie arithmetische Ausdrücke verknüpft werden. Operatoren (Rechenanweisungen) hierzu sind z.B. \"and\" und \"or\":"
   ]
  },
  {
   "cell_type": "code",
   "execution_count": 30,
   "metadata": {},
   "outputs": [
    {
     "data": {
      "text/plain": [
       "True"
      ]
     },
     "execution_count": 30,
     "metadata": {},
     "output_type": "execute_result"
    }
   ],
   "source": [
    "a = 42\n",
    "q = 'Was ist die Antwort auf Alles?'\n",
    "ans = a==42 and q == 'Was ist die Antwort auf Alles?'\n",
    "ans"
   ]
  },
  {
   "cell_type": "markdown",
   "metadata": {
    "collapsed": true
   },
   "source": [
    "Wenn a oder q hier einem anderen Objekt zugewiesen worden wären, ergäbe sich für ans der Wert False."
   ]
  },
  {
   "cell_type": "markdown",
   "metadata": {},
   "source": [
    "## 2.3. Funktionen"
   ]
  },
  {
   "cell_type": "raw",
   "metadata": {},
   "source": [
    "Unter einer Funktion versteht man ein aufrufbares Objekt, der Parameter (oder Argumente) übergeben werden können. Diese werden verarbeitet und die Funktion gibt dann einen Rückgabewert zurück. Die übergebenen Parmeter sind ebenso wie die Rückgabewerte Objekte. Am einfachsten ist dies vielleicht anhand der Sinusfunktion zu verstehen:"
   ]
  },
  {
   "cell_type": "code",
   "execution_count": 12,
   "metadata": {},
   "outputs": [
    {
     "data": {
      "text/plain": [
       "0.8939966636005579"
      ]
     },
     "execution_count": 12,
     "metadata": {},
     "output_type": "execute_result"
    }
   ],
   "source": [
    "import math\n",
    "y = math.sin(90)\n",
    "y"
   ]
  },
  {
   "cell_type": "markdown",
   "metadata": {},
   "source": [
    "Hier haben wir das Modul math importiert, welches die Sinusfunktion enthält. Wir haben den Wert 90 (Nicht 90 Grad!) an die Funktion übergeben und den Rückgabewert der Variablen y zugewiesen. \n",
    "\n",
    "Wir haben schon einige Funktionen kennengelernt: type() und id(). Funktionen müssen also nichts mit Mathematik zu tun haben. Es gibt eine sehr große Menge an funktionen die in Python eingebaut sind, z.B.:"
   ]
  },
  {
   "cell_type": "code",
   "execution_count": 13,
   "metadata": {},
   "outputs": [
    {
     "data": {
      "text/plain": [
       "2"
      ]
     },
     "execution_count": 13,
     "metadata": {},
     "output_type": "execute_result"
    }
   ],
   "source": [
    "min(2,4,7)"
   ]
  },
  {
   "cell_type": "code",
   "execution_count": 14,
   "metadata": {},
   "outputs": [
    {
     "data": {
      "text/plain": [
       "4"
      ]
     },
     "execution_count": 14,
     "metadata": {},
     "output_type": "execute_result"
    }
   ],
   "source": [
    "len('fünf')"
   ]
  },
  {
   "cell_type": "markdown",
   "metadata": {},
   "source": [
    "Das Minimum der Zahlenfolge ist 2 und die Länge des Wortes \"fünf\" ist 4. Funktionen, die keinen Parameter zurückgeben, nennt man Prozeduren."
   ]
  },
  {
   "cell_type": "code",
   "execution_count": 15,
   "metadata": {},
   "outputs": [
    {
     "name": "stdout",
     "output_type": "stream",
     "text": [
      "Hallo Welt!\n"
     ]
    }
   ],
   "source": [
    "print('Hallo Welt!')"
   ]
  },
  {
   "cell_type": "markdown",
   "metadata": {},
   "source": [
    "Es gibt Funktionen, die keine Parmeter bentötigen ebenso wie solche, die eine bestimte Anzahl benötigen, aber auch solche, die beliebig viele Parameter annehmen (z.B. min()). Da Funktionen in Python Objekte sind, gibt es auch solche, denen als Parameter eine Funktion übergeben werden kann:"
   ]
  },
  {
   "cell_type": "code",
   "execution_count": 17,
   "metadata": {},
   "outputs": [
    {
     "data": {
      "text/plain": [
       "[11, 10, 7, 5]"
      ]
     },
     "execution_count": 17,
     "metadata": {},
     "output_type": "execute_result"
    }
   ],
   "source": [
    "a = map(len , ['Deutschland','Frankreich','Schweiz','Polen'])\n",
    "list(a)"
   ]
  },
  {
   "cell_type": "markdown",
   "metadata": {},
   "source": [
    "Der Funktion map() wird hier die Funktion len() übergeben sowie eine Liste mit Ländernamen. Die Funktion map() ruf nun für jedes Element der Liste die Funktion len()auf und übergibt als Parameter das jeweilige Element. Zurückgegeben wird von map() ein Objekt vom Typ map, dass wir mit der Funktion list() in eine Liste umgewandelt haben.\n",
    "\n",
    "Es ist in Python möglich, eigene Funktionen zu definieren:"
   ]
  },
  {
   "cell_type": "code",
   "execution_count": 24,
   "metadata": {},
   "outputs": [
    {
     "data": {
      "text/plain": [
       "['Anja', 'Andrea', 'Antje']"
      ]
     },
     "execution_count": 24,
     "metadata": {},
     "output_type": "execute_result"
    }
   ],
   "source": [
    "def namenfilter(buchstabe, namenlistein):\n",
    "  namenlisteout = []\n",
    "  for i in namenlistein:\n",
    "    if i[0] == buchstabe:\n",
    "      namenlisteout.append(i)\n",
    "  return namenlisteout\n",
    "namenfilter('A', ['Jana', 'Anja', 'Gerda', 'Hanna', 'Andrea', 'Antje'])"
   ]
  },
  {
   "cell_type": "markdown",
   "metadata": {},
   "source": [
    "Als erstes leiten wir die Definition unseres Funktion namensfilter() mit dem Schlüsselwort def ein, gefolgt vom Funktionsnamen und der Parameterliste in Klammern. Danach folgt ein Doppelpunkt. Als Parametersollen hier übergeben werden: Ein Buchstabe, nach dem gefiltert werden soll, und eine Liste von Namen. Theoretisch könnten es aber auch x-beliebe andere Strings sein. Danach erzeugen wir eine leere Liste. Dies geschieht, um die Methode append() des Objekts aufzurufen. Da dazu Python wissen muss, um was für einen Typ es sich handelt (Welche Methode gibt es bei welcher Klasse?), lassen wir Python den Typ mitels \"Ducktyping\" ermitteln. Nun iterieren wir über alle Elemente der übergebenen Liste und fragen jeweils, ob der erste Buchstabe des jeweiligen Elements gleich dem übergebenen Buchstaben ist. Wenn dies so ist, dann fügen wir mit der append() Methode der Ausgabeliste dieses Element der Liste hinzu. Am Ende wird, nnachdem alle Elemente durchlaufen wurden, die Ausgabeliste namenlisteout zurückgegeben.\n",
    "Nun rufen wir in der letzten Zeile diese neue Funktion auf. Sie sehen an der Ausgabe: Es funktioniert!\n",
    "\n",
    "Und keine Sorge: zu Listen und anderen hier angewandten Dingen kommen wir später noch. Falls Ihnen aber aufgefallen sein sollte, dass Methoden der Objekte so etwas Ähnliches wie Funktionen sind, dann liegen Sie verdammt richtig!\n",
    "\n",
    "Funktionen (und Prozeduren) dienen dazu, die Lösung zu einem gestellten Problem zu gliedern. Und so können wir schrittweise an ein Problem herangehen. \n",
    "\n",
    "Da Funktionen wiederum Funktionen aufrufen können, kann sich in einem Programm eine sehr tiefe Verschachtelung ergeben. Und irgendwann fragen Sie sich: Habe ich den Namen 'lieblingsname' nicht schon irgendwann in meinem Programm genutzt? Und welchen Werthabe ich dieser Variablen gegeben? Hier hilft das Konzept der globalen und lokalen Variablen weiter. Schauen wir uns dies einmal an:"
   ]
  },
  {
   "cell_type": "code",
   "execution_count": 3,
   "metadata": {},
   "outputs": [
    {
     "name": "stdout",
     "output_type": "stream",
     "text": [
      "Lieblingsname:  Gerda\n",
      "Lieblingsname:  Yasmin\n"
     ]
    }
   ],
   "source": [
    "# Funktion/Prozedur\n",
    "def liebling(name):\n",
    "    lieblingsname = name\n",
    "    print('Lieblingsname: ', lieblingsname)\n",
    "# Hauptprogramm\n",
    "lieblingsname = 'Yasmin'\n",
    "liebling('Gerda')\n",
    "print('Lieblingsname: ', lieblingsname)"
   ]
  },
  {
   "cell_type": "markdown",
   "metadata": {},
   "source": [
    "Hier haben wir der Variablen lieblingsname einen Stringzugewiesen. Dann haben wir scheinbar der Variablen über die Funktion liebling() einen anderen String zugewiesen. Dieser wird als Bestätigung auch ausgegeben. Die Prozedur print() im Hauptprogramm gibt aberunbeeindruckt davon den ursprünglich im Hauptprogramm definierten String aus. Erklärung: Die Variable lieblingsname ist in der Funktion liebling lokal und die globale Variable im Hauptprogramm ist davon unabhängig. Es gibt also in Wirklichkeit zwei Variablen mit diesem Namen. Zuweisungen zu beiden beeinflussen sich nicht. Was wäre aber, wenn liebling() die Variable gar nicht definieren würde?"
   ]
  },
  {
   "cell_type": "code",
   "execution_count": 4,
   "metadata": {},
   "outputs": [
    {
     "name": "stdout",
     "output_type": "stream",
     "text": [
      "Lieblingsname:  Katharina\n",
      "Lieblingsname:  Katharina\n"
     ]
    }
   ],
   "source": [
    "# Funktion/Prozedur\n",
    "def liebling():\n",
    "    print('Lieblingsname: ', lieblingsname)\n",
    "# Hauptprogramm\n",
    "lieblingsname = \"Katharina\"\n",
    "liebling()\n",
    "print('Lieblingsname: ', lieblingsname)"
   ]
  },
  {
   "cell_type": "markdown",
   "metadata": {},
   "source": [
    "Hoppla! Die Funktion liebling() kennt die Variable lieblingsname des Hauptprogramms also doch! Genau diese Lösung hat man in Python gewählt. Wenn eine Funktion eine Variable definiert, deren Namen schon global existiert, dann wird eine lokale Variable angelegt. Wenn die Funktion nicht eine Variable mit einem Namen, der schon global definiert wurde, definiert, dann wird der globale Name beim Aufruf verwendet. Anders ausgedrückt, aus der 'Sicht'der Funktion: Wenn der Name schon im Hauptprogramm existiert, ich ihn aber für mich (die Funktion) nutzen will, dann erschaffe ich mir eine Variable des gleichen Namens, aber unabhängig von der Variablen mit gleichem Namen im Hauptprogramm."
   ]
  },
  {
   "cell_type": "code",
   "execution_count": 7,
   "metadata": {},
   "outputs": [
    {
     "ename": "UnboundLocalError",
     "evalue": "local variable 'lieblingsname' referenced before assignment",
     "output_type": "error",
     "traceback": [
      "\u001b[1;31m---------------------------------------------------------------------------\u001b[0m",
      "\u001b[1;31mUnboundLocalError\u001b[0m                         Traceback (most recent call last)",
      "\u001b[1;32m<ipython-input-7-53192a8607a4>\u001b[0m in \u001b[0;36m<module>\u001b[1;34m()\u001b[0m\n\u001b[0;32m      4\u001b[0m \u001b[1;31m# Hauptprogramm\u001b[0m\u001b[1;33m\u001b[0m\u001b[1;33m\u001b[0m\u001b[0m\n\u001b[0;32m      5\u001b[0m \u001b[0mlieblingsname\u001b[0m \u001b[1;33m=\u001b[0m \u001b[1;34m\"Katharina\"\u001b[0m\u001b[1;33m\u001b[0m\u001b[0m\n\u001b[1;32m----> 6\u001b[1;33m \u001b[0mliebling\u001b[0m\u001b[1;33m(\u001b[0m\u001b[1;33m)\u001b[0m\u001b[1;33m\u001b[0m\u001b[0m\n\u001b[0m\u001b[0;32m      7\u001b[0m \u001b[0mprint\u001b[0m\u001b[1;33m(\u001b[0m\u001b[1;34m'Lieblingsname: '\u001b[0m\u001b[1;33m,\u001b[0m \u001b[0mlieblingsname\u001b[0m\u001b[1;33m)\u001b[0m\u001b[1;33m\u001b[0m\u001b[0m\n",
      "\u001b[1;32m<ipython-input-7-53192a8607a4>\u001b[0m in \u001b[0;36mliebling\u001b[1;34m()\u001b[0m\n\u001b[0;32m      1\u001b[0m \u001b[1;31m# Funktion/Prozedur\u001b[0m\u001b[1;33m\u001b[0m\u001b[1;33m\u001b[0m\u001b[0m\n\u001b[0;32m      2\u001b[0m \u001b[1;32mdef\u001b[0m \u001b[0mliebling\u001b[0m\u001b[1;33m(\u001b[0m\u001b[1;33m)\u001b[0m\u001b[1;33m:\u001b[0m\u001b[1;33m\u001b[0m\u001b[0m\n\u001b[1;32m----> 3\u001b[1;33m     \u001b[0mlieblingsname\u001b[0m \u001b[1;33m=\u001b[0m \u001b[0mlieblingsname\u001b[0m \u001b[1;33m+\u001b[0m \u001b[1;34m'-Linda'\u001b[0m\u001b[1;33m\u001b[0m\u001b[0m\n\u001b[0m\u001b[0;32m      4\u001b[0m \u001b[1;31m# Hauptprogramm\u001b[0m\u001b[1;33m\u001b[0m\u001b[1;33m\u001b[0m\u001b[0m\n\u001b[0;32m      5\u001b[0m \u001b[0mlieblingsname\u001b[0m \u001b[1;33m=\u001b[0m \u001b[1;34m\"Katharina\"\u001b[0m\u001b[1;33m\u001b[0m\u001b[0m\n",
      "\u001b[1;31mUnboundLocalError\u001b[0m: local variable 'lieblingsname' referenced before assignment"
     ]
    }
   ],
   "source": [
    "# Funktion/Prozedur\n",
    "def liebling():\n",
    "    lieblingsname = lieblingsname + '-Linda'\n",
    "# Hauptprogramm\n",
    "lieblingsname = \"Katharina\"\n",
    "liebling()\n",
    "print('Lieblingsname: ', lieblingsname)"
   ]
  },
  {
   "cell_type": "markdown",
   "metadata": {},
   "source": [
    "Fehlermeldung! Ups! Was ist hier geschehen? Wir haben versuch, die globale Variable in einer Funktion zu manipulieren. Das mag Python offensichtlich gar nicht! Also: Zugreifen auf globale Variablen ist einer Funktion möglich, Manipulation nicht! Eine Hilfe ist hier das Schlüsselwort global:"
   ]
  },
  {
   "cell_type": "code",
   "execution_count": 8,
   "metadata": {},
   "outputs": [
    {
     "name": "stdout",
     "output_type": "stream",
     "text": [
      "Lieblingsname:  Katharina-Linda\n"
     ]
    }
   ],
   "source": [
    "# Funktion/Prozedur\n",
    "def liebling():\n",
    "    global lieblingsname\n",
    "    lieblingsname = lieblingsname + '-Linda'\n",
    "# Hauptprogramm\n",
    "lieblingsname = \"Katharina\"\n",
    "liebling()\n",
    "print('Lieblingsname: ', lieblingsname)"
   ]
  },
  {
   "cell_type": "markdown",
   "metadata": {},
   "source": [
    "Wir haben hier die Variable bewusst als global definiert, aber Vorsicht! Nun kann die Funktion liebling() die Variable bzw. das Objekt, auf das sie verweist, ändern. Hierauf ist im weiteren Verlauf des Hauptprogramms dann zu achten, da dort eben nicht mehr die alleinige Kontrolle über das zugewiesene Objekt besteht.\n",
    "\n",
    "Die Parameter in der Parameterliste einer Funktion werden wie lokale Variablen behandelt.Es können 0 und mehr Parameter definiert werden."
   ]
  },
  {
   "cell_type": "code",
   "execution_count": 3,
   "metadata": {},
   "outputs": [
    {
     "data": {
      "text/plain": [
       "24"
      ]
     },
     "execution_count": 3,
     "metadata": {},
     "output_type": "execute_result"
    }
   ],
   "source": [
    "# Funktion\n",
    "def multipliziere(wert1, wert2):\n",
    "    ergebnis = wert1 * wert2\n",
    "    return ergebnis\n",
    "# Hauptprogramm\n",
    "multipliziere(4, 6)"
   ]
  },
  {
   "cell_type": "markdown",
   "metadata": {},
   "source": [
    "Weiterhin ist es möglich, Standardwerte (default) vorzugeben, die genutzt werden, wenn der Parameter beim Aufruf der Funktion nicht als Argument übergeben wird:"
   ]
  },
  {
   "cell_type": "code",
   "execution_count": 15,
   "metadata": {},
   "outputs": [
    {
     "name": "stdout",
     "output_type": "stream",
     "text": [
      "Ergebnis 1:  29\n",
      "Ergebnis 2:  30\n",
      "Ergebnis 3:  31\n",
      "Ergebnis 4:  57\n"
     ]
    }
   ],
   "source": [
    "# Funktion\n",
    "def addiere(zahl1 = 1, zahl2 = 3, zahl3 = 25):\n",
    "    ergebnis = zahl1 + zahl2 + zahl3\n",
    "    return ergebnis\n",
    "# Hauptprogramm\n",
    "print('Ergebnis 1: ',addiere())\n",
    "print('Ergebnis 2: ',addiere(2))\n",
    "print('Ergebnis 3: ',addiere(2,4))"
   ]
  },
  {
   "cell_type": "markdown",
   "metadata": {},
   "source": [
    "Ergebnis 1: Hier wurden keine Argumente übergeben, d.h. die Standardwerte für die Parameter wurden verwendet. Beim Ergebnis 2 wurde für den ersten Parameter der Wert 2 verwendet, nicht der Standardwert 1. Für das dritte Ergebnis wurden die ersten beiden Paramater ersetzt. Mann kann auch explizit angeben, welchem Parameter ein Argument zugeordnet ist und benötigt dann nicht mehr die berücksichtohtigung der Reihenfolge:"
   ]
  },
  {
   "cell_type": "code",
   "execution_count": 16,
   "metadata": {},
   "outputs": [
    {
     "name": "stdout",
     "output_type": "stream",
     "text": [
      "Ergebnis 1:  33\n",
      "Ergebnis 2:  4\n",
      "Ergebnis 3:  75\n"
     ]
    }
   ],
   "source": [
    "# Funktion\n",
    "def addiere(zahl1 = 1, zahl2 = 3, zahl3 = 25):\n",
    "    ergebnis = zahl1 + zahl2 + zahl3\n",
    "    return ergebnis\n",
    "# Hauptprogramm\n",
    "print('Ergebnis 1: ',addiere(zahl2 = 7))\n",
    "print('Ergebnis 2: ',addiere(zahl3 = 0))\n",
    "print('Ergebnis 3: ',addiere(zahl3=17,zahl1= 55))"
   ]
  },
  {
   "cell_type": "markdown",
   "metadata": {},
   "source": [
    "Werden als Argument veränderbare Objekte an eine Funktion übergeben, dann behält zwar der Wert der globalen Variablen ihren Wert,d.h. sie verweist auch nach Funktionsaufruf auf das gleiche Objekt. jedoch werden Manipulationen innerhalb der Funktion an dem Objektausgeführt. Folgendes Beispiel, bei dem eine Liste manipuliert wird:"
   ]
  },
  {
   "cell_type": "code",
   "execution_count": 23,
   "metadata": {},
   "outputs": [
    {
     "name": "stdout",
     "output_type": "stream",
     "text": [
      "Original:  ['Peter', 'Gabi', 'Henry', 'Julia']\n",
      "Manipuliert:  ['Gabi', 'Peter', 'Julia', 'Henry']\n"
     ]
    }
   ],
   "source": [
    "# Funktiona\n",
    "   zwischenspeicher=liste2[0]\n",
    "   liste2[0]=liste2[1]\n",
    "   liste2[1]=zwischenspeicher\n",
    "   zwischenspeicher=liste2[2]\n",
    "   liste2[2]=liste2[3]\n",
    "   liste2[3]=zwischenspeicher\n",
    "# Hauptprogramm\n",
    "liste1=['Peter','Gabi','Henry','Julia']\n",
    "print('Original: ', liste1)\n",
    "namenvertauschen(liste1)\n",
    "print('Manipuliert: ', liste1)\n"
   ]
  },
  {
   "cell_type": "markdown",
   "metadata": {},
   "source": [
    "Wir verstehen dies, wenn wiruns das übergebene Argument als Verweis auf ein Objekt (die Liste, auf die die Variable liste1 verweist) vorstellen. Die Variable ist lokal bzw. global. Das Objekt ist aber nur einmalig im Speicher vorhanden.\n",
    "\n",
    "Es können auch Funktionen definiert werden, die mit beliebig vielen Argumenten aufgerufen werden können- In diesem Fall definiert man die Parameterliste in Klammern als (*parametername):"
   ]
  },
  {
   "cell_type": "code",
   "execution_count": 27,
   "metadata": {},
   "outputs": [
    {
     "data": {
      "text/plain": [
       "['1', 'Hallo', 'Y', 'etwas']"
      ]
     },
     "execution_count": 27,
     "metadata": {},
     "output_type": "execute_result"
    }
   ],
   "source": [
    "# Funktion\n",
    "def erstelleliste(*meinewerte):\n",
    "    liste=[]\n",
    "    for x in meinewerte:\n",
    "        liste.append(x)\n",
    "    return liste\n",
    "# Hauptprogramm\n",
    "neueliste=erstelleliste('1','Hallo','Y','etwas')\n",
    "neueliste"
   ]
  },
  {
   "cell_type": "markdown",
   "metadata": {},
   "source": [
    "Es können hier auch mehr Argumente übergeben werden. Probieren Sie es aus! Und denken Sie an duck typing!;-)\n",
    "\n",
    "Auch Funktionen können übrigens lokal sein und sind dann damit nur innerhalb einer anderen Funktion nutzbar:"
   ]
  },
  {
   "cell_type": "code",
   "execution_count": 8,
   "metadata": {},
   "outputs": [
    {
     "data": {
      "text/plain": [
       "[12, 24, 36]"
      ]
     },
     "execution_count": 8,
     "metadata": {},
     "output_type": "execute_result"
    }
   ],
   "source": [
    "# Funktion: Finde alle Werte in einer Parameterliste, die sowohl durch 3 als auch durch 4 teilbar sind und gebe diese aus\n",
    "def teilbarkeit3und4(*zahl):\n",
    "    def teilbarkeit3pruefen(wert):\n",
    "        if (wert%3==0):\n",
    "            return True\n",
    "            # Ende der Funktion teilbarkeit3pruefen()\n",
    "    def teilbarkeit4pruefen(wert):\n",
    "        if (wert%4==0):\n",
    "            return True\n",
    "            # Ende der Funktion teilbarkeit4pruefen()\n",
    "    liste=[]\n",
    "    for x in zahl:\n",
    "        w1=teilbarkeit3pruefen(x)\n",
    "        w2=teilbarkeit4pruefen(x)\n",
    "        if (w1 == True and w2 == True):\n",
    "            liste.append(x)\n",
    "    return liste\n",
    "# Hauptprogramm\n",
    "meineZahlen = teilbarkeit3und4(3,4,12,24,25,36,38)\n",
    "meineZahlen"
   ]
  },
  {
   "cell_type": "markdown",
   "metadata": {},
   "source": [
    "Innerhalb der Definition von teilbarkeit3und4() wurden hier zwei weitere (lokale) Funktionen definiert, die jeweils den übergebenen Wert auf glatte Teilbarkeit durch 3 bzw. durch 4 prüfen. Dies geschieht mit Hilfe des Modulo-Operators %. Dieser teilt die erste Zahl durch die Zweite, liefert jedoch nicht das Ergebnis der Division, sondern den Rest. Ein Beispiel: Wenn man 5 durch 2 teilt, erhält man 2, der Rest ist 1, da 5 == 2*2+1. Ist der Rest Null, dann geht die Division glatt auf, also z.B. 4%2. In diesem Fall geben diese beiden lokalen Funktionen den Wert True zurück, also wahr. Die Funktion teilbarkeit3und4() erzeugt nun eine leere Liste und prüft dann jedes ihr übergebene Argument mit den lokalen Funktionen auf Teilbarkeit durch 3 bzw. 4. Ist das Argument durch beide Zahlen teilbar, wird es der Liste hinzugefügt. Am Ende wird die Liste von der Funktion zurückgegeben. Wie wir sehen, enthält sie nur die übergebenen Werte, die durch 3 und durch 4 teilbar sind. Wichtig: lokale Funktionen können nur innerhalb der definierenden Funktion aufgerufen werden. Von außen (z.B. aus dem Hauptprogramm) kann man sie nicht aufrufen.\n",
    "\n",
    "Funktionen können nicht nur in ihnen definierte Funktionen aufrufen, sondern auch sich selbst:"
   ]
  },
  {
   "cell_type": "code",
   "execution_count": 14,
   "metadata": {},
   "outputs": [
    {
     "name": "stdout",
     "output_type": "stream",
     "text": [
      "0\n",
      "1\n",
      "1\n",
      "2\n",
      "3\n",
      "5\n",
      "8\n",
      "13\n",
      "21\n",
      "34\n"
     ]
    }
   ],
   "source": [
    "# Funktion\n",
    "def fib(n):\n",
    "    if n == 0:\n",
    "        return 0\n",
    "    elif n == 1:\n",
    "        return 1\n",
    "    else:\n",
    "        return fib(n-1) + fib(n-2)\n",
    "# Hauptprogramm\n",
    "for n in range(10):\n",
    "    y = fib(n)\n",
    "    print(y)"
   ]
  },
  {
   "cell_type": "markdown",
   "metadata": {},
   "source": [
    "Dies nennt man rekursive Aufrufe oder Rekurion. Doch zu zuerst: Was haben wir hier berechnet? Um dies zu erklären, beschäftigen wir uns zuerst einmal mit Fibonacci-Zahlen. Nehme man eine ganze Zahl, z.B. 1, dann wäre die nächste Fibonacci-Zahl die Summe aus 0+1, also 1. Der Nachfolger von 3 ist 5, weil 2+3 = 5. Eine Besonderheit sind die ersten beiden Zahlen in dieser Folge, nämlich 0, weil 0 keinen Vorgänger hat und 1, weil 1 keinen positiven  Vorgänger hat. Wir wollen uns aber nicht auf die Mathematik konzentrieren, sondern auf die Zeile: return fib(n-1) + fib(n-2).\n",
    "\n",
    "Wir schauen uns das im Detail an. Für n gleich 0 liefert die Funktion 0 als Rückgabewert, entsprechend der mathematischen Definition. Für n gleich 1 wird genauso verfahren. Dann kommt die eigentliche Berechnung für alle weiteren Werte. Wir übergeben das Argument n gleich 2. Zurückgegeben wird fib(n-1) + fib(n-2), mit fib(2-1) = fib(1) = 1 und fib (2-2) = fib (0) = 1. Dmit haben wir fib(2) = 1+0 =1. Die Funktion fib() wird also nicht immer wieder mit neuen Parametern aufgerufen, sondern hier zweimal mit den Ergebnissen für vorhergehende Aufrufe, nämlich hier konkret die für die Ergebnisse für die Argumente 0 und 1. Das Hauptprogramm ruft nun die ersten 10 Zahlen der Folge auf. Mehr zur Fibunacci-Folge hier:\n",
    "https://de.wikipedia.org/wiki/Fibonacci-Folge\n",
    "\n",
    "Eine kleine Aufgabe an dieser Stelle: Suchen Sie bitte mal eine Lösung im Internet für folgendes Problem: Die Flakultäteiner Zahl n wird geschrieben als n! und ist definiert als die Zahl, die sich aus der gegebenen Ganzzahl n mal der Zahl n-1 mal n-2 usw. ergibt. Zum Beispiel ist 3! = 1*2*3 = 6 und 4! = 1*2*3*4=24.\n",
    "https://de.wikipedia.org/wiki/Fakult%C3%A4t_(Mathematik)\n",
    "\n",
    "Versuchen Sie dies, in Python zu berechnen. Nutzen Sie hierfür Rekursion. Alternativ finden Sie eine Lösung im Internet und versuchen, diese zu verstehen. (Das sollte nicht so schwierig sein. Schauen Sie sich ggf. den Code zur Fibonacci-Folge an.\n",
    "\n",
    "Es gibt in Python eine Möglichkeit, Funktionen sehr kompakt und anonym zu definieren:"
   ]
  },
  {
   "cell_type": "code",
   "execution_count": 17,
   "metadata": {},
   "outputs": [
    {
     "data": {
      "text/plain": [
       "6"
      ]
     },
     "execution_count": 17,
     "metadata": {},
     "output_type": "execute_result"
    }
   ],
   "source": [
    "(lambda x,y: x*y) (2,3)"
   ]
  },
  {
   "cell_type": "markdown",
   "metadata": {},
   "source": [
    "Diese Lambdaausdrücke (auch: Lambda-Formen) können ohne Namen genutzt werden. Eine Nameszuweisung ist jedoch möglich:"
   ]
  },
  {
   "cell_type": "code",
   "execution_count": 18,
   "metadata": {},
   "outputs": [
    {
     "data": {
      "text/plain": [
       "81"
      ]
     },
     "execution_count": 18,
     "metadata": {},
     "output_type": "execute_result"
    }
   ],
   "source": [
    "xhochy = (lambda x,y: x**y)\n",
    "xhochy(3,4)"
   ]
  },
  {
   "cell_type": "markdown",
   "metadata": {},
   "source": [
    "##  2.4. Sequenzen"
   ]
  },
  {
   "cell_type": "markdown",
   "metadata": {},
   "source": [
    "Sequenzen sind in Python Objekte, die wiedereum Sammlungen von Objekten sind. Dabei ist die Reihenfolge der gesammelten Objekte definiert: Jedes Objekt hat seinen festen Platz. Die in Python eingebauten Sequenz-Typen sind: Listen, Tupel und Strings. Alle drei haben eine gemeinsame Funktionalität, soweit es ihre Struktur zulässt:"
   ]
  },
  {
   "cell_type": "code",
   "execution_count": 22,
   "metadata": {},
   "outputs": [
    {
     "name": "stdout",
     "output_type": "stream",
     "text": [
      "Anaconda fängt mit A an\n",
      "1 ist nicht in der Liste\n",
      "Meier\n"
     ]
    }
   ],
   "source": [
    "# Ein String\n",
    "if ('A' in 'Anaconda' ):\n",
    "    print('Anaconda fängt mit A an')\n",
    "# Eine Liste\n",
    "if (1 not in [2,5,7]):\n",
    "    print('1 ist nicht in der Liste')\n",
    "# Ein Tupel\n",
    "name = ('Heinz', 'Meier')\n",
    "print(name[1])"
   ]
  },
  {
   "cell_type": "markdown",
   "metadata": {},
   "source": [
    "Es sind diverse Operationen möglich:"
   ]
  },
  {
   "cell_type": "code",
   "execution_count": 25,
   "metadata": {},
   "outputs": [
    {
     "name": "stdout",
     "output_type": "stream",
     "text": [
      "Hallo! Hallo! Hallo! \n",
      "(2, 5, 7, 1)\n",
      "grün\n"
     ]
    }
   ],
   "source": [
    "# Multiplikation eines Strings\n",
    "s = 'Hallo! '\n",
    "s = 3 * s\n",
    "print(s)\n",
    "# Addition zweier Tupel\n",
    "t1 = (2,5)\n",
    "t2 = (7,1)\n",
    "t3 = t1 + t2\n",
    "print(t3)\n",
    "# Zugriff auf ein Element einer Liste\n",
    "l = ['rot','grün','blau']\n",
    "print(l[1])"
   ]
  },
  {
   "cell_type": "markdown",
   "metadata": {},
   "source": [
    "Die oben genannten Operationen sind für alle Sequenzen möglich. Man beachte, dass das erste Element einer Sequenz über sequenz[0] angersprochen wird, also den Index 0 hat, nicht etwas 1. Weiterhin kann man auch vom Ende der Sequenz ausgehen, dann aber ist -1 der Index für das letzte Element, -2 für das Vorletzte usw."
   ]
  },
  {
   "cell_type": "code",
   "execution_count": 2,
   "metadata": {},
   "outputs": [
    {
     "name": "stdout",
     "output_type": "stream",
     "text": [
      "c\n",
      "8\n"
     ]
    }
   ],
   "source": [
    "s='abcd'\n",
    "print(s[-2])\n",
    "t=(4,6,1,8)\n",
    "print(t[-1])"
   ]
  },
  {
   "cell_type": "markdown",
   "metadata": {},
   "source": [
    "Eine wichtige Möglichkeit, auf bestimmte Bereiche on Daten zuzugreifen, ist das Slicing. Hier werden nicht nur z.B. die letzten 10 Elemente ausgewählt oder die ersten 5:"
   ]
  },
  {
   "cell_type": "code",
   "execution_count": 10,
   "metadata": {},
   "outputs": [
    {
     "name": "stdout",
     "output_type": "stream",
     "text": [
      "JA\n",
      "Meine Antwort ist noch offen\n"
     ]
    }
   ],
   "source": [
    "s='Meine Antwort ist JA'\n",
    "print(s[-2:]) # alle Elemente ab dem Vorletzten\n",
    "print(s[:-3]+' noch offen') # alle Elemente vor dem Vorvorletzten. Das Leerzeichen wurde berücksichtigt!"
   ]
  },
  {
   "cell_type": "markdown",
   "metadata": {},
   "source": [
    "Hiermit können auch Elementsequenzen innerhalb einer Sequenz zurückgegeben werden:"
   ]
  },
  {
   "cell_type": "code",
   "execution_count": 15,
   "metadata": {},
   "outputs": [
    {
     "name": "stdout",
     "output_type": "stream",
     "text": [
      "['er', 'sie', 'es']\n",
      "['Ober', 'dampf', 'steller']\n"
     ]
    }
   ],
   "source": [
    "l=['ich','du','er','sie','es','wir','ihr','sie']\n",
    "t=(l[2:5])\n",
    "print(t)\n",
    "s='Oberdonaudampfschifffahrtsgesellschaftskapitänsanwärtermützenabzeichenhersteller'\n",
    "l=[s[:4],s[9:14],s[-7:]]\n",
    "print(l)"
   ]
  },
  {
   "cell_type": "markdown",
   "metadata": {},
   "source": [
    "Was wir sehen ist zusätzlich noch die weitgehende Kompatibilität der Sequenztypen untereinander.\n",
    "\n",
    "Beim sogenannten Unpacking geht es darum, Teilen einer Liste einenNamen zu geben, genauer: die Elemente Variablen zuzuweisen:"
   ]
  },
  {
   "cell_type": "code",
   "execution_count": 13,
   "metadata": {},
   "outputs": [
    {
     "name": "stdout",
     "output_type": "stream",
     "text": [
      "Johannes\n",
      "Jens\n",
      "Joachim\n"
     ]
    }
   ],
   "source": [
    "erster, zweiter, dritter = ['Johannes','Jens','Joachim']\n",
    "print(erster)\n",
    "print(zweiter)\n",
    "print(dritter)"
   ]
  },
  {
   "cell_type": "markdown",
   "metadata": {},
   "source": [
    "Man kann auch Zuweisungen formulieren,bei denen die Variablen auf mehr als ein Element verweisen. Hier werden dann diese Elemente zu einem Objekt zusammengefasst:"
   ]
  },
  {
   "cell_type": "code",
   "execution_count": 21,
   "metadata": {},
   "outputs": [
    {
     "name": "stdout",
     "output_type": "stream",
     "text": [
      "1\n",
      "2\n",
      "[3, 4, 5, 6]\n",
      "<class 'int'>\n",
      "<class 'list'>\n"
     ]
    }
   ],
   "source": [
    "eins, zwei, *alles_andere = (1,2,3,4,5,6)\n",
    "print(eins)\n",
    "print(zwei)\n",
    "print(alles_andere)\n",
    "print(type(eins))\n",
    "print(type(alles_andere))"
   ]
  },
  {
   "cell_type": "markdown",
   "metadata": {},
   "source": [
    "Wir sehen, dass diese Zusammenfassung dazu führen kann, dass die so erhaltenen Objekte zu verschiedenen Typen gehören. Der Stern führt dazu, dass Python hier einen Rest erkennt, der noch nicht anderen Variablen zugeordnet ist. Dieser muss sich nicht am Anfang oder Ende einer Sequenz befinden:"
   ]
  },
  {
   "cell_type": "code",
   "execution_count": 22,
   "metadata": {},
   "outputs": [
    {
     "name": "stdout",
     "output_type": "stream",
     "text": [
      "Montag\n",
      "['Dienstag', 'Mittwoch', 'Donnerstag']\n",
      "Freitag\n"
     ]
    }
   ],
   "source": [
    "anfang, *dazwischen, ende = ['Montag','Dienstag','Mittwoch','Donnerstag','Freitag']\n",
    "print(anfang)\n",
    "print(dazwischen)\n",
    "print(ende)"
   ]
  },
  {
   "cell_type": "markdown",
   "metadata": {},
   "source": [
    "Tupel und Strings sind unveränderbare Objekte, während Listen verändert werden können:"
   ]
  },
  {
   "cell_type": "code",
   "execution_count": 27,
   "metadata": {},
   "outputs": [
    {
     "data": {
      "text/plain": [
       "[1, 2, 3, 4]"
      ]
     },
     "execution_count": 27,
     "metadata": {},
     "output_type": "execute_result"
    }
   ],
   "source": [
    "l = [0,2,3,4]\n",
    "l[0] = 1\n",
    "l"
   ]
  },
  {
   "cell_type": "raw",
   "metadata": {},
   "source": [
    "Würde man eine gleichartige Operation an einem Tupel oder einem String durchführen, erhielte man eine Fehlermeldung.\n",
    "\n",
    "Tupel werden z.B. verwendet, wenn eine Funktion mehr als einen Rückgabewert liefert:"
   ]
  },
  {
   "cell_type": "code",
   "execution_count": 30,
   "metadata": {},
   "outputs": [
    {
     "name": "stdout",
     "output_type": "stream",
     "text": [
      "('Albert', 'Einstein')\n",
      "Albert\n",
      "Einstein\n"
     ]
    }
   ],
   "source": [
    "def vorname_nachname(ein_name):\n",
    "    vorname=ein_name[0]\n",
    "    nachname = ein_name[1]\n",
    "    return vorname, nachname\n",
    "person = (vorname,nachname) = vorname_nachname(['Albert','Einstein'])\n",
    "print(person)  # Tupel\n",
    "print(vorname) #String\n",
    "print(nachname) # String"
   ]
  },
  {
   "cell_type": "markdown",
   "metadata": {},
   "source": [
    "Die Klammmern können hierbei auch weggelassen werden:"
   ]
  },
  {
   "cell_type": "code",
   "execution_count": 31,
   "metadata": {},
   "outputs": [
    {
     "name": "stdout",
     "output_type": "stream",
     "text": [
      "(1, 2)\n",
      "1\n",
      "2\n"
     ]
    }
   ],
   "source": [
    "zahlen = eins, zwei = (1,2)\n",
    "print(zahlen)\n",
    "print(eins)\n",
    "print(zwei)"
   ]
  },
  {
   "cell_type": "markdown",
   "metadata": {},
   "source": [
    "Im Gegensatz zu Strings und Tupeln sind Listen veränderbare Objekte. Es können sowohl einzelnen Elementen neue Objekte zugeordnet werden, als auch eine Anzahl an Elementen ersetzt werden:"
   ]
  },
  {
   "cell_type": "code",
   "execution_count": 4,
   "metadata": {},
   "outputs": [
    {
     "name": "stdout",
     "output_type": "stream",
     "text": [
      "[1, 2, 7, 4, 5]\n",
      "[1, 2, 8, 9, 5]\n"
     ]
    }
   ],
   "source": [
    "l=[1,2,3,4,5]\n",
    "l[2]=7       # Das dritte Element wird 7\n",
    "print(l)\n",
    "l[2:4]=[8,9] # Element 3 und 4 werden 8 und 9\n",
    "print(l)"
   ]
  },
  {
   "cell_type": "code",
   "execution_count": null,
   "metadata": {
    "collapsed": true
   },
   "outputs": [],
   "source": [
    "Zusätzlich gibt bietet der Typ (die Klasse) Liste Funktionalität zum Verlängern der Liste:"
   ]
  },
  {
   "cell_type": "code",
   "execution_count": 12,
   "metadata": {},
   "outputs": [
    {
     "name": "stdout",
     "output_type": "stream",
     "text": [
      "['a', 'b', 'c', 'd', 'e']\n",
      "['a', 'b', 'c', 'd', 'e', 'f', 'g', 'h']\n",
      "['a', 'b', 'c', 'c2', 'd', 'e', 'f', 'g', 'h']\n"
     ]
    }
   ],
   "source": [
    "l=['a','b','c','d']\n",
    "l.append('e')       # d anhängen\n",
    "print(l)\n",
    "l.extend(['f','g','h'])   # um die Elemente einer Sequenz verlängern\n",
    "print(l)\n",
    "l.insert(3,'c2')      # Der String wird als Element vor dem Element mit Index 3 eingefügt, also vor d\n",
    "print(l)"
   ]
  },
  {
   "cell_type": "markdown",
   "metadata": {},
   "source": [
    "Zum Entfernen von Elementen gibt es natürlich auch diverse Möglichkeiten:"
   ]
  },
  {
   "cell_type": "code",
   "execution_count": 9,
   "metadata": {},
   "outputs": [
    {
     "name": "stdout",
     "output_type": "stream",
     "text": [
      "['a', 'b', 'd']\n",
      "['d']\n",
      "['d', 'h', 'a', 'l', 'l', 'o']\n",
      "o\n",
      "['d', 'h', 'a', 'l', 'l']\n",
      "['d', 'h', 'a', 'l']\n"
     ]
    }
   ],
   "source": [
    "l=['a','b','c','d']\n",
    "del l[2]        # Das c wird entfernt\n",
    "print(l)\n",
    "del l[0:2]      # a und b werden auch entfernt\n",
    "print(l)\n",
    "l.extend('hallo')  # Wir füllen wieder auf. Ja, mit einem String:\n",
    "print(l)\n",
    "print(l.pop())      # Das letzte Element wird entfernt und zurückgegeben über die Methode pop()\n",
    "print(l)\n",
    "l.remove('l')     # Das erste Element mit dem Wert 'l' wird entfernt.\n",
    "print(l)"
   ]
  },
  {
   "cell_type": "markdown",
   "metadata": {},
   "source": [
    "Und dann haben wir noch diverse hilfreiche Methoden (Betrachten Sie bitte erst einmal Methoden als Funktionen, die nur einem bestimmten Typ angehören. Genaueres wird im Kapitel \"Klassen\" behandelt.). Diese Methoden stehen zur Verfügung:"
   ]
  },
  {
   "cell_type": "code",
   "execution_count": 20,
   "metadata": {},
   "outputs": [
    {
     "name": "stdout",
     "output_type": "stream",
     "text": [
      "['Brutus', 'Julius', 'Kleopatra', 'Qctavian', 'Sulla']\n",
      "['Sulla', 'Qctavian', 'Kleopatra', 'Julius', 'Brutus']\n",
      "4\n",
      "5\n",
      "2\n"
     ]
    }
   ],
   "source": [
    "l=['Julius','Qctavian','Brutus','Kleopatra','Sulla']\n",
    "l.sort()\n",
    "print(l)         # sortieren\n",
    "l.reverse()      # Reihenfolge umkehren\n",
    "print(l)\n",
    "print(l.index('Brutus'))  # Das erste Vorkommen von 'Brutus' in der Liste wird gesucht und der Index zurückgegeben.\n",
    "l2=[1,3,3,5,7,8,7,1,0,5]    # Eine weitere Liste\n",
    "print(l2.index(8))      # erstes Auftreten des Wertes 8\n",
    "print(l2.count(7))         # Die Anzahl des Vorkommens von 7 wird zurückgegeben"
   ]
  },
  {
   "cell_type": "markdown",
   "metadata": {},
   "source": [
    "Fast immer ist es sinnvoll eine Liste mit Elementen des gleichen Typs zu befüllen. Tatsächlich kann aber jedes Element einem anderen Typ angehören:"
   ]
  },
  {
   "cell_type": "code",
   "execution_count": 1,
   "metadata": {},
   "outputs": [
    {
     "name": "stdout",
     "output_type": "stream",
     "text": [
      "<class 'str'>\n",
      "<class 'int'>\n",
      "<class 'float'>\n",
      "<class 'tuple'>\n"
     ]
    }
   ],
   "source": [
    "liste=['Data Science' ,42 , 1.3, (1,5)]\n",
    "for i in liste:\n",
    "    print(type(i))"
   ]
  },
  {
   "cell_type": "markdown",
   "metadata": {},
   "source": [
    "Die Elemente können auch berechnete Werte sein oder sichausanderen Operationen herleiten oder gar Rückgabewerte von Funktionen sein:"
   ]
  },
  {
   "cell_type": "code",
   "execution_count": 5,
   "metadata": {},
   "outputs": [
    {
     "data": {
      "text/plain": [
       "['Adam und Eva', 3, 3.7333333333333334, 7]"
      ]
     },
     "execution_count": 5,
     "metadata": {},
     "output_type": "execute_result"
    }
   ],
   "source": [
    "def plus_drei(x):\n",
    "    y=x+3\n",
    "    return y\n",
    "liste=['Adam'+' und '+'Eva' ,1+2 , 3.4+1/3, plus_drei(4)]\n",
    "liste"
   ]
  },
  {
   "cell_type": "markdown",
   "metadata": {},
   "source": [
    "Listen können auch gerneriert werden. In diesem Fall spricht man in Pythonfachsprache von \"list comprehension\". Die Elemente werden dabei aus einer vorhandenen Liste generiert, wobei ein Ausdruck (eine Anweisung) Einschränkungen, Berechnungen usw. auf die vorhandene Liste ausführt:"
   ]
  },
  {
   "cell_type": "code",
   "execution_count": 7,
   "metadata": {},
   "outputs": [
    {
     "data": {
      "text/plain": [
       "[1, 8, 27, 64, 125]"
      ]
     },
     "execution_count": 7,
     "metadata": {},
     "output_type": "execute_result"
    }
   ],
   "source": [
    "liste1=[1, 2, 3, 4, 5]\n",
    "liste2=[i**3 for i in liste1]   # 3. Potenz jeder Zahl\n",
    "liste2"
   ]
  },
  {
   "cell_type": "markdown",
   "metadata": {},
   "source": [
    "Hier wird also derAusdruck vor dem Schlüsselwort \"for\" auf alle Elemente nach dem Schlüsselwort angeandt. Interessant ist in diesem Zusammen hang die Verwendung der Funktion range():"
   ]
  },
  {
   "cell_type": "code",
   "execution_count": 12,
   "metadata": {},
   "outputs": [
    {
     "name": "stdout",
     "output_type": "stream",
     "text": [
      "range(0, 6)\n",
      "[0, 2, 4, 6, 8]\n"
     ]
    }
   ],
   "source": [
    "print(range(6))    # range(n) liefert eine Liste von Werten von 0 bis n-1\n",
    "liste=[i for i in range(10) if i%2 ==0]       # alle geraden Zahlen von 1 bis 9, aber auch 0.\n",
    "print(liste)"
   ]
  },
  {
   "cell_type": "markdown",
   "metadata": {},
   "source": [
    "Es ist auch möglich, zwei oder mehr Listen als Quelle zu nehmen:"
   ]
  },
  {
   "cell_type": "code",
   "execution_count": 13,
   "metadata": {},
   "outputs": [
    {
     "data": {
      "text/plain": [
       "[('Micky', 'Tick'),\n",
       " ('Micky', 'Trick'),\n",
       " ('Micky', 'Track'),\n",
       " ('Micky', 'Goofy'),\n",
       " ('Donald', 'Tick'),\n",
       " ('Donald', 'Trick'),\n",
       " ('Donald', 'Track'),\n",
       " ('Donald', 'Goofy'),\n",
       " ('Daisy', 'Tick'),\n",
       " ('Daisy', 'Trick'),\n",
       " ('Daisy', 'Track'),\n",
       " ('Daisy', 'Goofy'),\n",
       " ('Dagobert', 'Tick'),\n",
       " ('Dagobert', 'Trick'),\n",
       " ('Dagobert', 'Track'),\n",
       " ('Dagobert', 'Goofy')]"
      ]
     },
     "execution_count": 13,
     "metadata": {},
     "output_type": "execute_result"
    }
   ],
   "source": [
    "liste1=['Micky', 'Donald', 'Daisy', 'Dagobert']\n",
    "liste2=['Tick', 'Trick', 'Track', 'Goofy']\n",
    "liste3=[(i,j) for i in liste1 for j in liste2]    # Paare (Tupel) von Kombinationen aus liste1 und liste2\n",
    "liste3"
   ]
  },
  {
   "cell_type": "markdown",
   "metadata": {},
   "source": [
    "An dieser Stelle sei daran erinnert, dass die Variablen liste1 und liste2 Verweise auf Objekte sind. Dies ist wichtig, wenn eine Liste kopiert werden soll:"
   ]
  },
  {
   "cell_type": "code",
   "execution_count": 15,
   "metadata": {},
   "outputs": [
    {
     "data": {
      "text/plain": [
       "['Micky', 'Daisy', 'Daisy', 'Dagobert']"
      ]
     },
     "execution_count": 15,
     "metadata": {},
     "output_type": "execute_result"
    }
   ],
   "source": [
    "liste1=['Micky', 'Donald', 'Daisy', 'Dagobert']\n",
    "liste2 = liste1              # keine Kopie! Die Variable liste2 verweist auf dasselbe Objekt:\n",
    "liste1[1]='Daisy'\n",
    "liste2"
   ]
  },
  {
   "cell_type": "markdown",
   "metadata": {},
   "source": [
    "Eine Kopie erhält man mit dem slice-Operator \":\". Doch auch hier Vorsicht! Die Elemente der liste1 sind ja selbst Objekte, und die Liste enthält nur Verweise auf diese Objekte. "
   ]
  },
  {
   "cell_type": "code",
   "execution_count": 18,
   "metadata": {},
   "outputs": [
    {
     "name": "stdout",
     "output_type": "stream",
     "text": [
      "[[1, 2, 3], ['a', 'b'], ['c', 'd']]\n",
      "[[1, 2, 3], ['a', 'b'], ['x', 5]]\n",
      "[[1, 2, 3], ['verändert', 'b'], ['x', 5]]\n"
     ]
    }
   ],
   "source": [
    "liste1=[[1,2,3],['a','b'],['x', 5]]     # eine Liste von Listen\n",
    "liste2=liste1[:]                        # kopieren\n",
    "liste1[2]=['c','d']                     # liste1 wird verändert\n",
    "print(liste1)\n",
    "print(liste2)                           # liste 2 ist unverändert\n",
    "liste1[1][0]='verändert'                # Die zweite \"Unterliste\" in liste1 wird verändert\n",
    "print(liste2)                           # Das zweite Element in liste2 ist verändert"
   ]
  },
  {
   "cell_type": "markdown",
   "metadata": {},
   "source": [
    "Die erste Liste enthält Verweise auf Listen. Diese Verwiese wurden kopiert, nicht aber die Listen in liste1. Verändert man nun diese Listen, dann macht sich das auch in liste2 bemerkbar. \"liste1[1][0]\" ist das erste Element im zweiten Element von liste1, welches hier verändert wurde. Da nur die Verweise kopiert wurden, spricht man auch von einer flachen Kopie. Bei tiefen Kopien werden auch die untergeordneten Objekte kopiert, dies sind in diesem Fall alle Listen in liste1.\n",
    "\n",
    "Tiefe Kopien kann man mit der Funktion deepcopy() aus dem Modul copy erstellen:"
   ]
  },
  {
   "cell_type": "code",
   "execution_count": 19,
   "metadata": {},
   "outputs": [
    {
     "name": "stdout",
     "output_type": "stream",
     "text": [
      "[[1, 2, 3], ['verändert', 'b'], ['x', 5]]\n",
      "[[1, 2, 3], ['a', 'b'], ['x', 5]]\n"
     ]
    }
   ],
   "source": [
    "import copy\n",
    "liste1=[[1,2,3],['a','b'],['x', 5]]\n",
    "liste2=copy.deepcopy(liste1)\n",
    "liste1[1][0]='verändert'\n",
    "print(liste1)\n",
    "print(liste2)            # keine Veränderung"
   ]
  },
  {
   "cell_type": "markdown",
   "metadata": {},
   "source": [
    "Die Methode sort() sortiert eine Liste grundsätzlich aufsteigend. Zahlenwerte werden ihrer Größe nach sortiert, Strings alphanumerisch. Grundsätzlich werden Listen von Sequenzen so sortiert, dass erst die ersten Elemente verglichen und sortiert werden, dann die zweiten Elemente usw.:"
   ]
  },
  {
   "cell_type": "code",
   "execution_count": 21,
   "metadata": {},
   "outputs": [
    {
     "name": "stdout",
     "output_type": "stream",
     "text": [
      "[1, 3, 3, 5, 8, 188]\n",
      "['Anna', 'Berta', 'Sarah']\n",
      "[(1, 2, 3), (2, 5, 1), (3, 1, 4), (3, 2, 1)]\n"
     ]
    }
   ],
   "source": [
    "liste1=[3,5,8,3,188,1]      # Liste von Zahlen\n",
    "liste1.sort()\n",
    "print(liste1)\n",
    "liste2=['Berta','Sarah','Anna']      # Liste von Strings\n",
    "liste2.sort()\n",
    "print(liste2)\n",
    "liste3=[(3,2,1),(1,2,3),(3,1,4),(2,5,1)]    # Liste von Tupeln\n",
    "liste3.sort()                               # (3, 1, 4) vor (3, 2, 1), da 1<2 (2. Element)\n",
    "print(liste3)"
   ]
  },
  {
   "cell_type": "markdown",
   "metadata": {},
   "source": [
    "Übergibt man der Methode sort() den Parameter reverse=True, dann wird absteigend sortiert:"
   ]
  },
  {
   "cell_type": "code",
   "execution_count": 22,
   "metadata": {},
   "outputs": [
    {
     "name": "stdout",
     "output_type": "stream",
     "text": [
      "['Theresa', 'Sarah', 'Berta', 'Anna']\n"
     ]
    }
   ],
   "source": [
    "liste=['Berta','Sarah','Anna','Theresa'] \n",
    "liste.sort(reverse=True)\n",
    "print(liste)"
   ]
  },
  {
   "cell_type": "markdown",
   "metadata": {},
   "source": [
    "Mit dem Parameter key=function, wobei für function ein Funktionsname übergeben wird, kann zuerst eine Berechnung der Funktion für jedes Element ausgeführt werden. Verglichen werden dann die Rückgabewerte. Die verwendete Funktion darf nur ein Argument haben."
   ]
  },
  {
   "cell_type": "code",
   "execution_count": 25,
   "metadata": {},
   "outputs": [
    {
     "name": "stdout",
     "output_type": "stream",
     "text": [
      "['Kobra', 'Nilpferd', 'Affe', 'Storch']\n"
     ]
    }
   ],
   "source": [
    "def letzter(s):\n",
    "    s2=s[len(s)-1]         # Der letzte Buchstabe in einem String\n",
    "    return s2\n",
    "liste=['Affe','Kobra','Nilpferd','Storch']\n",
    "liste.sort(key=letzter)          # sortiere die Liste nach dem LETZTEN Buchstaben der Strings\n",
    "print(liste)"
   ]
  },
  {
   "cell_type": "markdown",
   "metadata": {},
   "source": [
    "## 2.5. Generatoren\n",
    "\n",
    "Listen sind (wie auch Strings und Tupel) Objekte, die im Speicher des Computers Platz einnehmen. Manchmal benötigt man aber nicht alle Daten dauerhaft im Speicher. Wenn Sie z.B. alle Quadrate der Zahlen 1 bis 10 bis zehn benötigen, jeden Wert aber nur einmal, so wäre eine dauerhafte Speicherung unnötig. Hier setzen Generartoren an. Sie erzeugen eine virtuelle Folge aus Anweisungen heraus. Dabei werden nicht alle Objekte auf einmal erzeugt und gespeichert, sondern immer gerade nur das Objekt, welches benötigt wird. Generatoren werden erzeugt wie list comprehesions, nur mit runden Klammern."
   ]
  },
  {
   "cell_type": "code",
   "execution_count": 27,
   "metadata": {},
   "outputs": [
    {
     "name": "stdout",
     "output_type": "stream",
     "text": [
      "<generator object <genexpr> at 0x000000A3E6060F68>\n",
      "0\n",
      "1\n",
      "4\n",
      "9\n",
      "16\n",
      "25\n",
      "36\n",
      "49\n",
      "64\n",
      "81\n"
     ]
    }
   ],
   "source": [
    "g = (x*x for x in range(10))    # Quadratzahlen bis 9\n",
    "print(g)                      # Generatorobjekt, keine Sequenz\n",
    "for i in g:                   # In jedem Durchlauf wird nur ein Objekt erzeugt\n",
    "    print(i)                "
   ]
  },
  {
   "cell_type": "markdown",
   "metadata": {},
   "source": [
    "Die Werte werden also erzeugt, in dem für jedes durch range() erzeugte Zahl mit Hilfe der for-Anweisung das Quadrat errechnet wird. Man kann auch Funktionen definieren, die Generatorobjekte zurückliefern. Diese nennt man Generatorfunktionen."
   ]
  },
  {
   "cell_type": "code",
   "execution_count": 28,
   "metadata": {},
   "outputs": [
    {
     "name": "stdout",
     "output_type": "stream",
     "text": [
      "0\n",
      "2\n",
      "4\n",
      "6\n",
      "8\n",
      "10\n",
      "12\n",
      "14\n",
      "16\n",
      "18\n"
     ]
    }
   ],
   "source": [
    "def gerade(n):\n",
    "    for i in range(n):\n",
    "        if i%2==0:          # nur gerade Zahlen und 0\n",
    "            yield i\n",
    "g=gerade(20)\n",
    "for i in g:\n",
    "    print(i)"
   ]
  },
  {
   "cell_type": "markdown",
   "metadata": {},
   "source": [
    "Bei Erreichen des Befehls yield unterbricht Python die Ausführung der Funktion und liefert den hinter yield befindlichen Wert zurück. Der aktuelle Status der Funktion wird gespeichert, so dass beim nächsten Aufruf der nächste Wert zurückgegeben werden kann. Die Elemente des Generatorobjektes können nur in der vorgegebenen Reihenfolgeaufgerufen werden. Dies kann einzeln ohne for-Konstrukt über die Funktion next() geschehen:"
   ]
  },
  {
   "cell_type": "code",
   "execution_count": 30,
   "metadata": {},
   "outputs": [
    {
     "name": "stdout",
     "output_type": "stream",
     "text": [
      "0.0\n",
      "0.8414709848078965\n",
      "0.9092974268256817\n"
     ]
    }
   ],
   "source": [
    "import math\n",
    "g=(math.sin(x) for x in range(20))\n",
    "print(next(g))\n",
    "print(next(g))\n",
    "print(next(g))"
   ]
  },
  {
   "cell_type": "markdown",
   "metadata": {},
   "source": [
    "Iteratoren sind spezielle Generatoren. Sie kontrollieren den Zugriff auf die Elemente einer Kollektion, z.B. einer Liste. Beim Aufruf von next() gibt der Iterator einer Funktion das nächste Element zurück. Die Funktion iter() dagegen liefert den Iterator der Kollektion:"
   ]
  },
  {
   "cell_type": "code",
   "execution_count": 32,
   "metadata": {},
   "outputs": [
    {
     "name": "stdout",
     "output_type": "stream",
     "text": [
      "1\n",
      "3\n",
      "5\n",
      "1\n"
     ]
    }
   ],
   "source": [
    "liste=[1,3,5,6,8,9,11]\n",
    "i1=iter(liste)\n",
    "i2=iter(liste)\n",
    "print(next(i1))\n",
    "print(next(i1))\n",
    "print(next(i1))\n",
    "print(next(i2))      # Iterator i2 bisher unbenutzt"
   ]
  },
  {
   "cell_type": "markdown",
   "metadata": {},
   "source": [
    "Wichtig: Ein Generator und somit auch ein Iterator, kann immer nur einmal komplett durchlaufen werden!"
   ]
  },
  {
   "cell_type": "markdown",
   "metadata": {},
   "source": [
    "## 2.7. Mengen\n",
    "\n",
    "Bei Mengen handelt es sich um ungeordnete Kollektionen von jeweils einmalig vorkommenden Elementen. Genau wie in der Mathematik können diese Sammlungen in geschweiften Klammern angegeben werden. Dabei werden Duplikate entfernt. Alternativ kann man eine Menge erzeugen, indem man die Funktion set() mit einem iterierbaren Objekt als Argument aufruft:"
   ]
  },
  {
   "cell_type": "code",
   "execution_count": 4,
   "metadata": {},
   "outputs": [
    {
     "name": "stdout",
     "output_type": "stream",
     "text": [
      "{0, 1, 2, 3, 4, 5}\n",
      "{1, 2, 4, 6, 7}\n",
      "{'A', 't', 'n', 's', 'a', 'i'}\n"
     ]
    }
   ],
   "source": [
    "m = {1,2,3,4,1,5,0}       # erzeuge Menge\n",
    "print(m)\n",
    "m2 = set({2,4,6,1,7,4})     # erzeuge Menge aus Liste\n",
    "print(m2)\n",
    "m3 = set('Annastasia')      # erzeuge Menge aus String. 'A' ist nicht 'a'!\n",
    "print(m3)"
   ]
  },
  {
   "cell_type": "markdown",
   "metadata": {},
   "source": [
    "Mengen können nur unveränderbare Objekte als Elemente haben, also Strings, Tupel oder frozenset-Objekte. Letztere sind Mengen-Objekte wie set-Objekte, jedoch im Gegensatz zu diesen unveränderbar. Somit kann man in Python zwar eine veränderbare Menge von Mengen erzeugen, nicht aber eine veränderbare Menge von veränderbaren Mengen. Frozensets werden so erzeugt:"
   ]
  },
  {
   "cell_type": "code",
   "execution_count": 5,
   "metadata": {},
   "outputs": [
    {
     "data": {
      "text/plain": [
       "frozenset({'B', 'e', 'i', 'l', 'p', 's'})"
      ]
     },
     "execution_count": 5,
     "metadata": {},
     "output_type": "execute_result"
    }
   ],
   "source": [
    "m4 = frozenset('Beispiel')\n",
    "m4"
   ]
  },
  {
   "cell_type": "markdown",
   "metadata": {},
   "source": [
    "Mengen können ebenfalls durch Generatoren erzeugt werden. Dabei werden die den Generator erzeugenden Anweisungen der Funktion set() übergeben:"
   ]
  },
  {
   "cell_type": "code",
   "execution_count": 7,
   "metadata": {},
   "outputs": [
    {
     "data": {
      "text/plain": [
       "{0.0, 0.5, 1.0, 1.5, 2.0}"
      ]
     },
     "execution_count": 7,
     "metadata": {},
     "output_type": "execute_result"
    }
   ],
   "source": [
    "m5 = set(i/2 for i in range(5))    # alles halbieren\n",
    "m5"
   ]
  },
  {
   "cell_type": "markdown",
   "metadata": {},
   "source": [
    "Mit Mengen kann man die aus der Mathematik bekannten Operationen durchführen: Vereinigung zweier Mengen, die Schnittmenge erzeugen oder die Differenz:"
   ]
  },
  {
   "cell_type": "code",
   "execution_count": 9,
   "metadata": {},
   "outputs": [
    {
     "name": "stdout",
     "output_type": "stream",
     "text": [
      "{'m', 'r', 'n', 'a', 'g', 'o', 'x', 'P', 'e', 'i', 'p'}\n",
      "{'a', 'r'}\n",
      "{'p', 'x'}\n"
     ]
    }
   ],
   "source": [
    "m1 = set(['x','a','p','r'])\n",
    "m2 = set('Programmieren')\n",
    "m3 = m1 | m2                    # Vereinigungsmenge\n",
    "print(m3)                       \n",
    "m4 = m1 & m2                    # Schnittmenge\n",
    "print(m4)\n",
    "m5 = m1 - m2                    # Differenz\n",
    "print(m5)"
   ]
  },
  {
   "cell_type": "markdown",
   "metadata": {},
   "source": [
    "Folgende Operationen kann man mit Mengen (set und frozenset) durchführen: "
   ]
  },
  {
   "cell_type": "code",
   "execution_count": 3,
   "metadata": {},
   "outputs": [
    {
     "name": "stdout",
     "output_type": "stream",
     "text": [
      "w\n",
      "t\n",
      "e\n"
     ]
    }
   ],
   "source": [
    "# iter(set) liefert einen Iterator für eine Menge\n",
    "s = set('qwertz')\n",
    "i = iter(s)\n",
    "print(next(i))\n",
    "print(next(i))\n",
    "print(next(i))\n",
    "# Man beachte bei der Ausgabe, dass Mengen ungeordnete Sammlungen sind!"
   ]
  },
  {
   "cell_type": "code",
   "execution_count": 6,
   "metadata": {},
   "outputs": [
    {
     "name": "stdout",
     "output_type": "stream",
     "text": [
      "6\n"
     ]
    }
   ],
   "source": [
    "# len(s) liefert die Anzahl der Elemente\n",
    "s = set('123456')\n",
    "print(len(s))"
   ]
  },
  {
   "cell_type": "code",
   "execution_count": 7,
   "metadata": {},
   "outputs": [
    {
     "name": "stdout",
     "output_type": "stream",
     "text": [
      "z\n",
      "c\n"
     ]
    }
   ],
   "source": [
    "# max(set) liefert das größte Element, min(set) das kleinste.\n",
    "s = set('zoologisch')\n",
    "print(max(s))\n",
    "print(min(s))"
   ]
  },
  {
   "cell_type": "code",
   "execution_count": 10,
   "metadata": {},
   "outputs": [
    {
     "name": "stdout",
     "output_type": "stream",
     "text": [
      "5 ist eine Primzahl!\n",
      "9 ist keine Primzahl!\n"
     ]
    }
   ],
   "source": [
    "# x in set liefert den Wert True, wenn das Element x in der Menge vorhanden ist. x not in set liefert True, wenn dies\n",
    "# nicht der Fall ist.\n",
    "primzahlen = set([1,2,3,5,7,11])\n",
    "x = 5\n",
    "y = 9\n",
    "if x in primzahlen:\n",
    "    print(x, 'ist eine Primzahl!')\n",
    "if y not in primzahlen:\n",
    "    print(y, 'ist keine Primzahl!')"
   ]
  },
  {
   "cell_type": "markdown",
   "metadata": {},
   "source": [
    "Die set- und frozenset-Objekte stellen auch einige Methoden bereit:"
   ]
  },
  {
   "cell_type": "code",
   "execution_count": 11,
   "metadata": {},
   "outputs": [
    {
     "name": "stdout",
     "output_type": "stream",
     "text": [
      "[7, 8, 9]\n",
      "{1, 2, 3, 5}\n"
     ]
    }
   ],
   "source": [
    "# set.copy liefert eine flache Kopie der Menge\n",
    "s = set([1,2,3,5])\n",
    "t = s.copy()\n",
    "s = ([7,8,9])\n",
    "print(s)\n",
    "print(t)"
   ]
  },
  {
   "cell_type": "code",
   "execution_count": 13,
   "metadata": {},
   "outputs": [
    {
     "name": "stdout",
     "output_type": "stream",
     "text": [
      "{'a', 'b', 'c'}\n",
      "{'d'}\n",
      "{'g', 'f', 'a', 'b', 'e', 'd', 'c'}\n"
     ]
    }
   ],
   "source": [
    "# set.difference(t) - wie oben beschrieben die Differenzmenge.\n",
    "s = set('abcd')\n",
    "t = set('defg')\n",
    "print(s.difference(t))\n",
    "# set.intersection(t) liefert die Schnittmenge von set und t\n",
    "print(s.intersection(t))\n",
    "# set.union(t) liefert die Vereinigung zweier Mengen. Mengen sind nicht sortiert!\n",
    "print(s.union(t))"
   ]
  },
  {
   "cell_type": "markdown",
   "metadata": {},
   "source": [
    "Unter diesen Methoden gibt es auch zwei mit boolschen Rückgabewerten:"
   ]
  },
  {
   "cell_type": "code",
   "execution_count": 4,
   "metadata": {},
   "outputs": [
    {
     "name": "stdout",
     "output_type": "stream",
     "text": [
      "Diese Primzahlen sind in dern ersten 9 Integerwerten enthalten!\n",
      "Diese ganzen Zahlen enthalten auch die Primzahlen!\n",
      "primzahlen ist in meinezahlen und ganzezahlen enthalten.\n"
     ]
    }
   ],
   "source": [
    "# set.issubset(t) liefert True, wenn set eine Untermenge von t ist.\n",
    "ganzezahlen = set([1,2,3,4,5,6,7,8,9])\n",
    "primzahlen = set([1,2,3,5,7])\n",
    "if primzahlen.issubset(ganzezahlen):\n",
    "    print('Diese Primzahlen sind in dern ersten 9 Integerwerten enthalten!')\n",
    "if ganzezahlen.issuperset(primzahlen):\n",
    "    print('Diese ganzen Zahlen enthalten auch die Primzahlen!')\n",
    "    \n",
    "# set.isupperset(t) liefert True, wenn set eine Obermenge von t ist.\n",
    "meinezahlen = set([0,1,2,3,5,7,9,10,123])\n",
    "if meinezahlen.issuperset(primzahlen) and ganzezahlen.issuperset(primzahlen):\n",
    "    print('primzahlen ist in meinezahlen und ganzezahlen enthalten.')"
   ]
  },
  {
   "cell_type": "markdown",
   "metadata": {},
   "source": [
    "Im Gegensatz zu frozenset hat die Klasse (der Typ) set einige zusätzliche Funktionalität, bedingt durch die Veränderbarkeit der Objekte dieser Klasse."
   ]
  },
  {
   "cell_type": "code",
   "execution_count": 9,
   "metadata": {},
   "outputs": [
    {
     "name": "stdout",
     "output_type": "stream",
     "text": [
      "{'Meine', 'Motorrad', 'fährt im Hühnerstall', 'Oma'}\n",
      "{'l', 's', 'A', 'e'}\n",
      "0\n"
     ]
    }
   ],
   "source": [
    "# set.add(x) fügt das Element x der Menge hinzu.\n",
    "s = set(['Meine','Oma','fährt im Hühnerstall'])\n",
    "s.add('Motorrad')\n",
    "print(s)             # Erinnerung: Mengen sind ungeordnet!\n",
    "# set.clear() Alle Elemente der Menge werden entfernt (Ergebnis: leere Menge)\n",
    "s = set('Alles')\n",
    "print(s)             # In einer Menge gibt es kein  Element doppelt: Aus ll wird l.\n",
    "s.clear()\n",
    "print(len(s))"
   ]
  }
 ],
 "metadata": {
  "kernelspec": {
   "display_name": "Python 3",
   "language": "python",
   "name": "python3"
  },
  "language_info": {
   "codemirror_mode": {
    "name": "ipython",
    "version": 3
   },
   "file_extension": ".py",
   "mimetype": "text/x-python",
   "name": "python",
   "nbconvert_exporter": "python",
   "pygments_lexer": "ipython3",
   "version": "3.6.1"
  }
 },
 "nbformat": 4,
 "nbformat_minor": 2
}
