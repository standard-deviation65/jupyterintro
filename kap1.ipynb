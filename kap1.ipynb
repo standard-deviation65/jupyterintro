{
 "cells": [
  {
   "cell_type": "markdown",
   "metadata": {},
   "source": [
    "# Einführung"
   ]
  },
  {
   "cell_type": "markdown",
   "metadata": {},
   "source": [
    "Im Gegensatz zu dem, was der Titel \"Einführung in Python mit Jupyter\" vermuten lässt, ist dies keine Einführung in die Programmiersprache Python. Oder besser: Es ist nicht nur eine Einführung in Python. Es ist auch eine Einführung in das praktische Arbeiten mit Jupyter. Und die Arbeit mit Jupyter ist nicht an die Beherrschung einer bestimmten Programmiersprache gebunden. Weiterhin werden die Kapitel nicht Bestandteile eines Buches sein und sollten nicht als solche betrachtet werden. Vorgesehen ist vielmehr eine \"Reihe\" oder Serie, die sich aber auf bestimmte Themen beschränken muss. Eine \"Einführung in JAVA mit Jupyter\" wäre z.B. in Gefahr gelaufen, auszuufern und zu explodieren. Wenn ich also im Verlauf dieser \"Reihe\" auf einmal von \"Data Science\" in das Thema \"Internet of things\" (IoT) wechseln sollte... beides ist auf Grund des umfassenden Gebrauchs von Python in diesen Bereichen möglich! (Dies heißt nicht, dass man nicht auch für beide JAVA einsetzen kann! Zwei Fragen sind allerdings eingangs noch zu klären:"
   ]
  },
  {
   "cell_type": "markdown",
   "metadata": {},
   "source": [
    "## Warum Python?"
   ]
  },
  {
   "cell_type": "markdown",
   "metadata": {},
   "source": [
    "Ganz einfach: Python ist leicht zu lernen, ein modernes BASIC. Und Python ist mächtig durch sehr mächtige Programmierkonstrukte. Erstaunlich viele, umfangreiche, durchdachte und mächtige Module (in anderen Sprachen Bibliotheken oder gar Frameworks) tun ein übriges. Abgesehen davon hat mich das \"Python-Ökosystem\" überzeugt wie das, welches das JAVA-Umfeld ist. Für bestimmte Aufgaben ist Python mit den vorhandenen Bibliotheken (Modulen) und Tools ideal. Im Umfeld des Themas \"Data Science\" ist sie die Lingua Franca geworden. Bei der Programmierung des Rasperberry Pi ist sie die beliebtete Sprache und damit eine der wichtigsten im Bereich IoT (Internet of Things)."
   ]
  },
  {
   "cell_type": "markdown",
   "metadata": {},
   "source": [
    "## Warum Jupyter?"
   ]
  },
  {
   "cell_type": "markdown",
   "metadata": {},
   "source": [
    "Jupyter ist eine Lösung für interative Programmierung inklusive Grafikausgabe und Dokumentation, Letztere wiederum inklusive mathematischer Formeln. Diese Lösung eignet sich hervorragend für Datenanalyse, aber eben auch zu Lernzwecken. Gibt es Alternativen? Ja, [Apache Zeppelin](https://zeppelin.apache.org/ \"Apache Zeppelin\") ist eine solche Alternative. Zeppelin kommt aus dem Umfeld von [Apache Hadoop](https://hadoop.apache.org/) und [Apache Spark](https://spark.apache.org/), also Softwareprodukten aus dem \"Big Data\" Umfeld. Dominierend ist in diesem Umfeld (Apache) die Programmiersprache JAVA, jedoch kann Zeppelin mit Python zusammenareiten, aber umgekehrt hat man von Python aus auch Zugriff auf Spark. Unabhängig davon, für welche Kombination man sich im Einzelfall entscheidet: Der Einstieg in die Programmierung mit Python im Rahmen von Notebooks ist mit Jupyter zumindest dann einfacher, wenn man dem Vorschlag unter 1. (Installation) folgt."
   ]
  },
  {
   "cell_type": "markdown",
   "metadata": {},
   "source": [
    "## Warum überhaupt?"
   ]
  },
  {
   "cell_type": "markdown",
   "metadata": {},
   "source": [
    "Die Motivation ist schlicht die, weiterzugeben, was man selbst gelernt hat. Lernen ist nicht immer linear. Ein Beispiel ist mein eigenes Lernen im Python-Umfeld: Interesse an den Themen IoT und Smart Home auf der einen, Faszination für das große Thema Data Science auf der anderen Seite, führten mich zu Python. Wenn ich weiter schaue erkenne ich schnell eine Baumstruktur von Interessen, aber lerne ich auch so? Von A nach B nach C? Also ich nicht. Was aber würde ich von einem Lehrbuch halten, dass von A nach C nach B usw. springt? Nichts! Insofern wollen diese Seiten auch Struktur vermitteln, die Orientierung bietet. \n",
    "\n",
    "Als Letztes: Die Notebooks sind auf Deutsch geschrieben. Der Grund liegt nicht in meinen Englisch-Kenntnissen. Vielmehr gibt es eine Unmenge von Tutorials und sogar Online-E-Books völlig legal im WWW. Aber alles ist auf Englisch, was an sich völlig O.K. ist. Trotzdem stellt es für manche eine Hemmschwelle da. Sprachbarrieren, auch wenn nur schwach vorhanden, sind eine Hemmschwelle, um sich mit einem Thema wenigstens erstmalig zu beschäftigen. Bei Interesse einer Intensivierung der Kenntnisse bleibt nur die englische Sprache. Hier also eine Hilfe zum Einstieg: auf Deutsch."
   ]
  },
  {
   "cell_type": "markdown",
   "metadata": {},
   "source": [
    "## 1. Installation"
   ]
  },
  {
   "cell_type": "markdown",
   "metadata": {},
   "source": [
    "Dieses Kapitel werde ich sehr kurz halten. Die Installationsmglichkeiten, gerade für denjenigen, der schon eine Python-Umgebung installiert hat, sind vielfältig. Diese Zeilen richten sich an den Anfänger, daher empfehle ich die Installation der [Anconda](https://www.anaconda.com)-Distribution. Diese enthält schon im ursprünglichen Download alles, was man zum Arbeiten mit Python und Jupyter benötigt. Zusätzlich benötige Module kann man über das Tool Conda herunterladen. Eine [Liste](https://docs.anaconda.com/anaconda/packages/pkg-docs/) der verfügbaren Packages steht zur Verfügung. Da Anaconda die Jupyter-Intallation schon integriert hat, wird eine Installation über das Anconda-Installations-Tool [CONDA](https://conda.io/en/master/) nicht nötig sein. Eine nachträgliche Installation mit dem Standard-Python-Tool [PIP](https://pypi.org/project/pip/) ist möglich, wie [hier](https://jupyter.readthedocs.io/en/latest/install.html) beschrieben. "
   ]
  },
  {
   "cell_type": "markdown",
   "metadata": {},
   "source": [
    "## 2. Start"
   ]
  },
  {
   "cell_type": "markdown",
   "metadata": {},
   "source": [
    "Der Start des Jupyter-Servers und des Standard-Browsers erfolgt durch Eingabe des Befehls \n",
    "\n",
    "jupyter notebook\n",
    "\n",
    "in einem Konsole-Fenster. Tip unter Windows: Das Start-Verzeichnis, welches das Jupyter-Dashboard anzeigt, lässt sich mit dem Wechel in das gewünschte Verzeichnis vor Start simpel manipulieren:\n",
    "\n",
    "cd C:\\Users\\Username\\Anaconda3\\notebooks\n",
    "jupyter notebook\n",
    "stop\n",
    "\n",
    "Damit lassen sich unterschiedliche Startverzeichnisse durch unterschiedliche Batch-Dateien repräsentieren. Die statische Alternative ist unter allen Betriebssystemen die Manipulation der Konfigurations-Dateien."
   ]
  },
  {
   "cell_type": "markdown",
   "metadata": {},
   "source": [
    "## 3. Die Benutzeroberfläche"
   ]
  },
  {
   "cell_type": "markdown",
   "metadata": {},
   "source": [
    "![\"Dashboard\"](img/dashboard1.jpg \"Dashboard\")\n",
    "\n",
    "Jupyter startet mit einem sogenannten Dashboard. Hier finden wir zuerst einmal drei Reiter, wobei der erste Reiter voreingetellt ist.\n",
    "\n",
    "1. Files (Dateien): Eine Ansicht der Dateien und Ordner im Startverzeichnis. Sie dient der Navigation in den Ordnern und dem Öffnen von Dateien, z.B. Notebooks. Hier können Dateien und Ordner auch markiert und gelöscht werden. Auf der rechten Seite finden wir:\n",
    "\n",
    "2. Running (geöffnete Notebooks): Hier hat man eine Üersicht über die aktuell geöffneten Notebooks.\n",
    "\n",
    "3. Clusters: Parallele Datenverareitung. Dies werden wir hier nicht besprechen.\n",
    "\n",
    "Doch kommen wir zurück zu Reiter 1:\n",
    "\n",
    "1.1. Upload: Hier kann man Dateien hochladen, z.B. Bilder. Sie landen genau in dem Verzeichnis, das aktuell ausgewählt ist.\n",
    "\n",
    "1.2. New: Hier wird ein neues Notebook erstelllt. Bei einer neuen Installation wird man hier nur die Auswahl haben, ein neues Python-Notebook zu erstellen. Im Bild sieht man die Auswahl \"Java\", weil das IJava-Kernel nachträglich installiert wurde.\n",
    "\n",
    "![\"New\"](img/menu1.jpg \"New\")\n",
    "\n",
    "Weiterhin lassen sich Verzeichnisse(Folder) oder einfache Tetdateien erstellen."
   ]
  },
  {
   "cell_type": "markdown",
   "metadata": {},
   "source": [
    "## 4. Erstes Notebook"
   ]
  },
  {
   "cell_type": "markdown",
   "metadata": {
    "collapsed": true
   },
   "source": [
    "Durch die Auswahl von \"Python 3\" im Menu \"New\" erzeugen wir ein neues Notebook, das mit dem Python 3-Kernel läuft, d.h. wir können Python 3-Code in entsprehende Zellen eingeben und ausführen. Das Notebook stellt sich so dar:\n",
    "\n",
    "![\"Erstes Notebook\"](img/notebook1.jpg \"Erstes Notebook\")\n",
    "\n",
    "Wir betrachten hier nicht die Menupunkte der Reihe nach, sondern beginnen mit der ersten, automatisch erzeugten Zelle, beginnend mit in[ ] und unterhalb der Symbolleiste. Dort geben wir den Befehl \n",
    "\n",
    "print(\"Hallo Welt!\" \n",
    "\n",
    "ein. Man beachte die Autoergänzung: zu jedem \" gehört ein Zweites, zu jedem [ gehört ein ]. Nun klicken wir auf\n",
    "\n",
    "![\"Run cells](img/runcell.jpg \"Run cells\") \n",
    "\n",
    "in der Symbolleiste oder im Menu \"Cell\" auf \"Run Cells\" (Probiert man beide aus, sieht man einen Unterschied. Das Symbol steht für \"Run cells, select below\" und erzeugt eine neue Zelle):"
   ]
  },
  {
   "cell_type": "code",
   "execution_count": 1,
   "metadata": {},
   "outputs": [
    {
     "name": "stdout",
     "output_type": "stream",
     "text": [
      "Hallo Welt!\n"
     ]
    }
   ],
   "source": [
    "print(\"Hallo Welt!\")"
   ]
  },
  {
   "cell_type": "markdown",
   "metadata": {},
   "source": [
    "Wir sehen, dass die ursprüngliche Zell nun mit in[1] eingeleitet, was uns anzeigt, dass es sich um die erste erzeugte Zelle handelt. Darunter sehen wir die Ausgabe \"Hallo Welt!\". Nun klicken wir auf \n",
    "\n",
    "![\"Neue Zelle\"](img/neuezelle.jpg \"Neue Zelle\")\n",
    "\n",
    "oder auf den Punkt \"Insert cell below\". Nun wählen wir in der Ausahliste\n",
    "\n",
    "![\"Zelltyp\"](img/Zelltyp.jpg \"Zelltyp\")\n",
    "\n",
    "den Typ \"Markdown\" aus. Das in[ ] verschwindet links vor der Zelle. In der Zelle können wir nun einen Text eingeben. Wieder klicken wir auf \"Run cells\". "
   ]
  }
 ],
 "metadata": {
  "kernelspec": {
   "display_name": "Python 3",
   "language": "python",
   "name": "python3"
  },
  "language_info": {
   "codemirror_mode": {
    "name": "ipython",
    "version": 3
   },
   "file_extension": ".py",
   "mimetype": "text/x-python",
   "name": "python",
   "nbconvert_exporter": "python",
   "pygments_lexer": "ipython3",
   "version": "3.6.8"
  }
 },
 "nbformat": 4,
 "nbformat_minor": 2
}
