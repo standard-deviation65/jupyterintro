{
 "cells": [
  {
   "cell_type": "markdown",
   "metadata": {},
   "source": [
    "# Einleitung"
   ]
  },
  {
   "cell_type": "markdown",
   "metadata": {},
   "source": [
    "Im Gegensatz zu dem, was der Titel \"Einführung in Python mit Jupyter\" vermuten lässt, ist dies keine Einführung in die Programmiersprache Python. Oder besser: Es ist nicht nur eine Einführung in Python. Es ist auch eine Einführung in das praktische Arbeiten mit Jupyter. Und die Arbeit mit Jupyter ist nicht an die Beherrschung einer bestimmten Programmiersprache gebunden. Weiterhin werden die Kapitel nicht Bestandteile eines Buches sein und sollten nicht als solche betrachtet werden. Vorgesehen ist vielmehr eine \"Reihe\" oder Serie, die sich aber auf bestimmte Themen beschränken muss. Eine \"Einführung in JAVA mit Jupyter\" wäre z.B. in Gefahr gelaufen, auszuufern und zu explodieren. Wenn ich also im Verlauf dieser \"Reihe\" auf einmal von \"Data Science\" in das Thema \"Internet of things\" (IoT) wechseln sollte... beides ist auf Grund des umfassenden Gebrauchs von Python in diesen Bereichen möglich! (Dies heißt nicht, dass man nicht auch für beide JAVA einsetzen kann! Zwei Fragen sind allerdings eingangs noch zu klären:"
   ]
  },
  {
   "cell_type": "markdown",
   "metadata": {},
   "source": [
    "## Warum Python?"
   ]
  },
  {
   "cell_type": "markdown",
   "metadata": {},
   "source": [
    "Ganz einfach: Python ist leicht zu lernen, ein modernes BASIC. Und Python ist mächtig durch sehr mächtige Programmierkonstrukte. Erstaunlich viele, umfangreiche, durchdachte und mächtige Module (in anderen Sprachen Bibliotheken oder gar Frameworks) tun ein übriges. Abgesehen davon hat mich das \"Python-Ökosystem\" überzeugt wie das, welches das JAVA-Umfeld ist. Für bestimmte Aufgaben ist Python mit den vorhandenen Bibliotheken (Modulen) und Tools ideal. Im Umfeld des Themas \"Data Science\" ist sie die Lingua Franca geworden. Bei der Programmierung des Rasperberry Pi ist sie die beliebtete Sprache und damit eine der wichtigsten im Bereich IoT (Internet of Things)."
   ]
  },
  {
   "cell_type": "markdown",
   "metadata": {},
   "source": [
    "## Warum Jupyter?"
   ]
  },
  {
   "cell_type": "markdown",
   "metadata": {},
   "source": [
    "Jupyter ist eine Lösung für interative Programmierung inklusive Grafikausgabe und Dokumentation, Letztere wiederum inklusive mathematischer Formeln. Diese Lösung eignet sich hervorragend für Datenanalyse, aber eben auch zu Lernzwecken. Gibt es Alternativen? Ja, [Apache Zeppelin](https://zeppelin.apache.org/ \"Apache Zeppelin\") ist eine solche Alternative. Zeppelin kommt aus dem Umfeld von [Apache Hadoop](https://hadoop.apache.org/) und [Apache Spark](https://spark.apache.org/), also Softwareprodukten aus dem \"Big Data\" Umfeld. Dominierend ist in diesem Umfeld (Apache) die Programmiersprache JAVA, jedoch kann Zeppelin mit Python zusammenareiten, aber umgekehrt hat man von Python aus auch Zugriff auf Spark. Unabhängig davon, für welche Kombination man sich im Einzelfall entscheidet: Der Einstieg in die Programmierung mit Python im Rahmen von Notebooks ist mit Jupyter zumindest dann einfacher, wenn man dem Vorschlag unter 1. (Installation) folgt."
   ]
  },
  {
   "cell_type": "markdown",
   "metadata": {},
   "source": [
    "## Warum überhaupt?"
   ]
  },
  {
   "cell_type": "markdown",
   "metadata": {},
   "source": [
    "Die Motivation ist schlicht die, weiterzugeben, was man selbst gelernt hat. Lernen ist nicht immer linear. Ein Beispiel ist mein eigenes Lernen im Python-Umfeld: Interesse an den Themen IoT und Smart Home auf der einen, Faszination für das große Thema Data Science auf der anderen Seite, führten mich zu Python. Wenn ich weiter schaue erkenne ich schnell eine Baumstruktur von Interessen, aber lerne ich auch so? Von A nach B nach C? Also ich nicht. Was aber würde ich von einem Lehrbuch halten, dass von A nach C nach B usw. springt? Nichts! Insofern wollen diese Seiten auch Struktur vermitteln, die Orientierung bietet. \n",
    "\n",
    "Als Letztes: Die Notebooks sind auf Deutsch geschrieben. Der Grund liegt nicht in meinen Englisch-Kenntnissen. Vielmehr gibt es eine Unmenge von Tutorials und sogar Online-E-Books völlig legal im WWW. Aber alles ist auf Englisch, was an sich völlig O.K. ist. Trotzdem stellt es für manche eine Hemmschwelle da. Sprachbarrieren, auch wenn nur schwach vorhanden, sind eine Hemmschwelle, um sich mit einem Thema wenigstens erstmalig zu beschäftigen. Bei Interesse einer Intensivierung der Kenntnisse bleibt nur die englische Sprache. Hier also eine Hilfe zum Einstieg: auf Deutsch."
   ]
  },
  {
   "cell_type": "markdown",
   "metadata": {},
   "source": [
    "## 1. Installation"
   ]
  },
  {
   "cell_type": "markdown",
   "metadata": {},
   "source": [
    "Dieses Kapitel werde ich sehr kurz halten. Die Installationsmglichkeiten, gerade für denjenigen, der schon eine Python-Umgebung installiert hat, sind vielfältig. Diese Zeilen richten sich an den Anfänger, daher empfehle ich die Installation der [Anconda](https://www.anaconda.com)-Distribution. Diese enthält schon im ursprünglichen Download alles, was man zum Arbeiten mit Python und Jupyter benötigt. Zusätzlich benötige Module kann man über das Tool Conda herunterladen. Eine [Liste](https://docs.anaconda.com/anaconda/packages/pkg-docs/) der verfügbaren Packages steht zur Verfügung. Da Anaconda die Jupyter-Intallation schon integriert hat, wird eine Installation über das Anconda-Installations-Tool [CONDA](https://conda.io/en/master/) nicht nötig sein. Eine nachträgliche Installation mit dem Standard-Python-Tool [PIP](https://pypi.org/project/pip/) ist möglich, wie [hier](https://jupyter.readthedocs.io/en/latest/install.html) beschrieben. "
   ]
  },
  {
   "cell_type": "markdown",
   "metadata": {},
   "source": [
    "## 2. Start"
   ]
  },
  {
   "cell_type": "markdown",
   "metadata": {},
   "source": [
    "Der Start des Jupyter-Servers und des Standard-Browsers erfolgt durch Eingabe des Befehls \n",
    "\n",
    "jupyter notebook\n",
    "\n",
    "in einem Konsole-Fenster. Tip unter Windows: Das Start-Verzeichnis, welches das Jupyter-Dashboard anzeigt, lässt sich mit dem Wechel in das gewünschte Verzeichnis vor Start simpel manipulieren:\n",
    "\n",
    "cd C:\\Users\\Username\\Anaconda3\\notebooks\n",
    "jupyter notebook\n",
    "stop\n",
    "\n",
    "Damit lassen sich unterschiedliche Startverzeichnisse durch unterschiedliche Batch-Dateien repräsentieren. Die statische Alternative ist unter allen Betriebssystemen die Manipulation der Konfigurations-Dateien."
   ]
  },
  {
   "cell_type": "markdown",
   "metadata": {},
   "source": [
    "## 3. Die Benutzeroberfläche"
   ]
  },
  {
   "cell_type": "markdown",
   "metadata": {},
   "source": [
    "![\"Dashboard\"](img/dashboard1.jpg \"Dashboard\")\n",
    "\n",
    "Jupyter startet mit einem sogenannten Dashboard. Hier finden wir zuerst einmal drei Reiter, wobei der erste Reiter voreingetellt ist.\n",
    "\n",
    "1. Files (Dateien): Eine Ansicht der Dateien und Ordner im Startverzeichnis. Sie dient der Navigation in den Ordnern und dem Öffnen von Dateien, z.B. Notebooks. Hier können Dateien und Ordner auch markiert und gelöscht werden. Auf der rechten Seite finden wir:\n",
    "\n",
    "2. Running (geöffnete Notebooks): Hier hat man eine Üersicht über die aktuell geöffneten Notebooks.\n",
    "\n",
    "3. Clusters: Parallele Datenverareitung. Dies werden wir hier nicht besprechen.\n",
    "\n",
    "Doch kommen wir zurück zu Reiter 1:\n",
    "\n",
    "1.1. Upload: Hier kann man Dateien hochladen, z.B. Bilder. Sie landen genau in dem Verzeichnis, das aktuell ausgewählt ist.\n",
    "\n",
    "1.2. New: Hier wird ein neues Notebook erstelllt. Bei einer neuen Installation wird man hier nur die Auswahl haben, ein neues Python-Notebook zu erstellen. Im Bild sieht man die Auswahl \"Java\", weil das IJava-Kernel nachträglich installiert wurde.\n",
    "\n",
    "![\"New\"](img/menu1.jpg \"New\")\n",
    "\n",
    "Weiterhin lassen sich Verzeichnisse(Folder) oder einfache Tetdateien erstellen."
   ]
  },
  {
   "cell_type": "markdown",
   "metadata": {},
   "source": [
    "## 4. Erstes Notebook"
   ]
  },
  {
   "cell_type": "markdown",
   "metadata": {
    "collapsed": true
   },
   "source": [
    "Durch die Auswahl von \"Python 3\" im Menu \"New\" erzeugen wir ein neues Notebook, das mit dem Python 3-Kernel läuft, d.h. wir können Python 3-Code in entsprehende Zellen eingeben und ausführen. Das Notebook stellt sich so dar:\n",
    "\n",
    "![\"Erstes Notebook\"](img/notebook1.jpg \"Erstes Notebook\")\n",
    "\n",
    "Wir betrachten hier nicht die Menupunkte der Reihe nach, sondern beginnen mit der ersten, automatisch erzeugten Zelle, beginnend mit in[ ] und unterhalb der Symbolleiste. Dort geben wir den Befehl \n",
    "\n",
    "print(\"Hallo Welt!\" \n",
    "\n",
    "ein. Man beachte die Autoergänzung: zu jedem \" gehört ein Zweites, zu jedem [ gehört ein ]. Nun klicken wir auf\n",
    "\n",
    "![\"Run cells](img/runcell.jpg \"Run cells\") \n",
    "\n",
    "in der Symbolleiste oder im Menu \"Cell\" auf \"Run Cells\" (Probiert man beide aus, sieht man einen Unterschied. Das Symbol steht für \"Run cells, select below\" und erzeugt eine neue Zelle):"
   ]
  },
  {
   "cell_type": "code",
   "execution_count": 1,
   "metadata": {},
   "outputs": [
    {
     "name": "stdout",
     "output_type": "stream",
     "text": [
      "Hallo Welt!\n"
     ]
    }
   ],
   "source": [
    "print(\"Hallo Welt!\")"
   ]
  },
  {
   "cell_type": "markdown",
   "metadata": {},
   "source": [
    "Wir sehen, dass die ursprüngliche Zell nun mit in[1] eingeleitet, was uns anzeigt, dass es sich um die erste erzeugte Zelle handelt. Darunter sehen wir die Ausgabe \"Hallo Welt!\". Nun klicken wir auf \n",
    "\n",
    "![\"Neue Zelle\"](img/neuezelle.jpg \"Neue Zelle\")\n",
    "\n",
    "oder auf den Punkt \"Insert cell below\". Nun wählen wir in der Ausahliste\n",
    "\n",
    "![\"Zelltyp\"](img/Zelltyp.jpg \"Zelltyp\")\n",
    "\n",
    "den Typ \"Markdown\" aus. Das in[ ] verschwindet links vor der Zelle. In der Zelle können wir nun einen Text eingeben. Wieder klicken wir auf \"Run cells\". Die Zelle an sich scheint erschwunden zu sein, dafür erscheint der eingegebene Text nun in einer anderen Schriftart.\n",
    "\n",
    "Markdown kann als Superset von HTML, der Hypertext Markup Language, verstanden werden. D.h. dass HTML-Code innerhalb eines Markdown-Textes eingesetzt werden kann. Markdown selbst ist eine Möglichkeit, Formatierungen usw. zu verwenden, ohne dass der Text wie bei HTML schwer lesbar wird. Der Text dieser Zeilen wurde in Markdown geschrieben. Mehr dazu unten."
   ]
  },
  {
   "cell_type": "markdown",
   "metadata": {},
   "source": [
    "## 5. Markdown"
   ]
  },
  {
   "cell_type": "markdown",
   "metadata": {},
   "source": [
    "Markdown-Text wird in HTML gerendert, nur eingefügter HTML-Code bleibt unerändert. Innerhalb von HTML-Code kann Marup-Text nicht umgewandelt werden. Um den urpsünglichen Markdown-Text den gerendeten Versionen gegenüberstellen zu können, wurden die ungerenderte Texte in Zitate (siehe unten) verbracht, gefolgt on einer Markdown-Zelle."
   ]
  },
  {
   "cell_type": "markdown",
   "metadata": {},
   "source": [
    "### 5.1. Absätze"
   ]
  },
  {
   "cell_type": "markdown",
   "metadata": {},
   "source": [
    "Absätze werde durch Leerzeilen erzeugt, wobei \"leer\" bedeutet, das keine sichtbaren Zeichen vorhanden sind:\n",
    "\n",
    ">Dies ist Absatz 1.\n",
    ">\n",
    ">Dies ist Absatz 2."
   ]
  },
  {
   "cell_type": "markdown",
   "metadata": {},
   "source": [
    "Dies ist Absatz 1.\n",
    "\n",
    "Dies ist Absatz 2."
   ]
  },
  {
   "cell_type": "markdown",
   "metadata": {},
   "source": [
    "Hier erkennen wir einen großen Unterschied zu HTML, denn in HTML sind Leerzeilen bedeutungslos. Aber in Markdown soll der Quelltext eben gut lesbar sein."
   ]
  },
  {
   "cell_type": "markdown",
   "metadata": {},
   "source": [
    "### 5.2. Zeilenumbrüche"
   ]
  },
  {
   "cell_type": "markdown",
   "metadata": {},
   "source": [
    "Zeilenumbrüche können durch Anfügen von zwei oder mehr Leerzeichen herbeigeführt werden. Die Erzeugung einer neuen Zeile im Quelltext ohne Leerzeichen führt im gerenderten Text nicht zum Umbruch. Beispiel:\n",
    "\n",
    ">Zwei Leerzeichen__\n",
    ">oder mehr.\n",
    "\n",
    "Der Unterstrich wurde hier zur Sichtbarmachung der Leerzeichen verwendet."
   ]
  },
  {
   "cell_type": "markdown",
   "metadata": {},
   "source": [
    "Zwei Leerzeichen  \n",
    "oder mehr."
   ]
  },
  {
   "cell_type": "markdown",
   "metadata": {},
   "source": [
    "\"Leerzeichen\" sind natürlich nicht in der Zelle mit dem gerenderten Text zu sehen."
   ]
  },
  {
   "cell_type": "markdown",
   "metadata": {},
   "source": [
    "### 5.3 Kopfzeilen"
   ]
  },
  {
   "cell_type": "markdown",
   "metadata": {},
   "source": [
    "Es gibt zwei Möglichkeiten, Kopfzeilen zu erzeugen:"
   ]
  },
  {
   "cell_type": "raw",
   "metadata": {},
   "source": [
    "Dies ist eine H1 Kopfzeile.\n",
    "===========================\n",
    "Dies ist eine H2 Kopfzeile.\n",
    "---------------------------"
   ]
  },
  {
   "cell_type": "markdown",
   "metadata": {},
   "source": [
    "Dies ist eine H1 Kopfzeile.\n",
    "=============== \n",
    "Dies ist eine H2 Kopfzeile.\n",
    "-------------------------------"
   ]
  },
  {
   "cell_type": "markdown",
   "metadata": {},
   "source": [
    "Üblicher ist der Gebrauch des \"sharp\"-Zeichnes:"
   ]
  },
  {
   "cell_type": "raw",
   "metadata": {},
   "source": [
    "# H1 \n",
    "## H2 \n",
    "### H3"
   ]
  },
  {
   "cell_type": "markdown",
   "metadata": {},
   "source": [
    "# H1 \n",
    "## H2 \n",
    "### H3"
   ]
  },
  {
   "cell_type": "markdown",
   "metadata": {},
   "source": [
    "Die Kopfzeilen (Header) können auch geschlossen werden, was im Quelltext besser aussieht:"
   ]
  },
  {
   "cell_type": "raw",
   "metadata": {},
   "source": [
    "### Titel ###"
   ]
  },
  {
   "cell_type": "markdown",
   "metadata": {},
   "source": [
    "### Titel ###"
   ]
  },
  {
   "cell_type": "markdown",
   "metadata": {},
   "source": [
    "### 5.4. Zitate "
   ]
  },
  {
   "cell_type": "markdown",
   "metadata": {},
   "source": [
    "Zitate werden mit dem \">\" (\"größer als\") Zeichen eingeleitet:"
   ]
  },
  {
   "cell_type": "raw",
   "metadata": {},
   "source": [
    ">The time has come,' the Walrus said, \n",
    ">To talk of many things: \n",
    ">Of shoes — and ships — and sealing-wax — \n",
    ">Of cabbages — and kings — \n",
    ">And why the sea is boiling hot — \n",
    ">And whether pigs have wings. "
   ]
  },
  {
   "cell_type": "markdown",
   "metadata": {},
   "source": [
    ">The time has come,' the Walrus said,  \n",
    ">To talk of many things:  \n",
    ">Of shoes — and ships — and sealing-wax —  \n",
    ">Of cabbages — and kings —  \n",
    ">And why the sea is boiling hot —  \n",
    ">And whether pigs have wings.'"
   ]
  },
  {
   "cell_type": "markdown",
   "metadata": {},
   "source": [
    "Es gibt eine \"faule\" Variante der Zitate, die aber nicht der Forderung nachkommt, dass sie im Quelltext gut erkennbar sein sollen:"
   ]
  },
  {
   "cell_type": "raw",
   "metadata": {},
   "source": [
    ">Dies ist ein__\n",
    "mehrzeiliges Zitat.__\n",
    "Aber..."
   ]
  },
  {
   "cell_type": "markdown",
   "metadata": {},
   "source": [
    ">Dies ist ein  \n",
    "mehrzeiliges Zitat.  \n",
    "Aber..."
   ]
  },
  {
   "cell_type": "markdown",
   "metadata": {},
   "source": [
    "Eine Schachtelung von Zitaten ist möglich:"
   ]
  },
  {
   "cell_type": "raw",
   "metadata": {},
   "source": [
    ">Ein Zitat, in dem zitiert wird:\n",
    ">\n",
    ">>\"Dies ist ein Zitat!\"\n",
    ">\n",
    ">Ende des Zitats."
   ]
  },
  {
   "cell_type": "markdown",
   "metadata": {},
   "source": [
    ">Ein Zitat, in dem zitiert wird:\n",
    ">\n",
    ">>\"Dies ist ein Zitat!\"\n",
    ">\n",
    ">Ende des Zitats."
   ]
  },
  {
   "cell_type": "markdown",
   "metadata": {},
   "source": [
    "Innerhalb eines Zitates können andere Elemente wie Listen (siehe unten) und Kopfzeilen verwendet werden."
   ]
  },
  {
   "cell_type": "markdown",
   "metadata": {},
   "source": [
    "### 5.5. Listen"
   ]
  },
  {
   "cell_type": "markdown",
   "metadata": {},
   "source": [
    "Unsortierte Listen werden durch die Zeichen Plus, Minus oder Sternchen, gefolgt von den Listenelementen, erzeugt:"
   ]
  },
  {
   "cell_type": "raw",
   "metadata": {},
   "source": [
    "- Äpfel\n",
    "- Birnen\n",
    "- Pflaumen\n",
    "- Orangen"
   ]
  },
  {
   "cell_type": "markdown",
   "metadata": {},
   "source": [
    "- Äpfel\n",
    "- Birnen\n",
    "- Pflaumen\n",
    "- Orangen"
   ]
  },
  {
   "cell_type": "markdown",
   "metadata": {},
   "source": [
    "Sortierte Listen werden durch eine Zahl gefolgt von einem Punkt vor dem Listenelement erzeugt. Die Zahl im Quelltext hat keine Auswirkungen auf die gerenderte Liste:"
   ]
  },
  {
   "cell_type": "raw",
   "metadata": {},
   "source": [
    "1. Erstes Element\n",
    "1. Zweites Element\n",
    "1. Drittes Element"
   ]
  },
  {
   "cell_type": "markdown",
   "metadata": {},
   "source": [
    "1. Erstes Element\n",
    "1. Zweites Element\n",
    "1. Drittes Element"
   ]
  },
  {
   "cell_type": "markdown",
   "metadata": {},
   "source": [
    "Diese Vorgehensweise widerspricht natürlich der Idee von Markdown, dass der Quelltext optisch möglichst nahe am Ausgabeformat liegen soll. Soll eine Zahl mit einem Punkt dahinter als solche dargestellt werden, so muss der Zahl ein Backslash folgen:"
   ]
  },
  {
   "cell_type": "raw",
   "metadata": {},
   "source": [
    "42. Die Antwort auf...\n",
    "\n",
    "42.\\ Die Antwort auf..."
   ]
  },
  {
   "cell_type": "markdown",
   "metadata": {},
   "source": [
    "42. Die Antwort auf...\n",
    "\n",
    "42\\. Die Antwort auf..."
   ]
  },
  {
   "cell_type": "markdown",
   "metadata": {},
   "source": [
    "### 5.6. Code"
   ]
  },
  {
   "cell_type": "markdown",
   "metadata": {},
   "source": [
    "Code-Blöcke (Python, HTML, Markdown etc.), die zur Dokumentation in den Text eingefügt werden sollen, werden durch 4 Leerzeichen vor jeder Zeile oder einem [Tab] eingeleitet:"
   ]
  },
  {
   "cell_type": "raw",
   "metadata": {},
   "source": [
    "In Markdown kann man auch \n",
    "\n",
    "    #### Kopfzeilen\n",
    "    \n",
    "oder\n",
    "\n",
    "    **Fettschrift**\n",
    "\n",
    "dartellen."
   ]
  },
  {
   "cell_type": "markdown",
   "metadata": {},
   "source": [
    "In Markdown kann man auch \n",
    "\n",
    "    #### Kopfzeilen\n",
    "    \n",
    "oder\n",
    "\n",
    "    **Fettschrift**\n",
    "\n",
    "dartellen."
   ]
  },
  {
   "cell_type": "markdown",
   "metadata": {},
   "source": [
    "Wir sehen oben dass in der Markdown-Zelle diese eingefügten Markdown-Anweisungen nicht gerendert werden. Man kann auch Code inline, also innerhalb einer Textzeile einfügen. Hierfür wird das Backtickzeichen ` benutzt."
   ]
  },
  {
   "cell_type": "raw",
   "metadata": {},
   "source": [
    "Mit `print(\"Hallo Welt!\")` begrüßen wir die Python-Welt."
   ]
  },
  {
   "cell_type": "markdown",
   "metadata": {},
   "source": [
    "Mit `print(\"Hallo Welt!\")` begrüßen wir die Python-Welt."
   ]
  },
  {
   "cell_type": "markdown",
   "metadata": {},
   "source": [
    "Es gibt eine Variante, die Jupyter untertsützt:"
   ]
  },
  {
   "cell_type": "raw",
   "metadata": {},
   "source": [
    "```javascript\n",
    "function fancyAlert(arg) {\n",
    "  if(arg) {\n",
    "    $.facebox({div:'#foo'})\n",
    "  }\n",
    "}\n",
    "```"
   ]
  },
  {
   "cell_type": "markdown",
   "metadata": {},
   "source": [
    "```javascript\n",
    "function fancyAlert(arg) {\n",
    "  if(arg) {\n",
    "    $.facebox({div:'#foo'})\n",
    "  }\n",
    "}\n",
    "```"
   ]
  },
  {
   "cell_type": "markdown",
   "metadata": {},
   "source": [
    "### 5.7. Fettschrift und Kursivschrift"
   ]
  },
  {
   "cell_type": "markdown",
   "metadata": {},
   "source": [
    "Durch das Umschließen von Text mit dem Unterstrich _ oder dem Stern * erzeugt man Kursivschrift. Ein doppelter Unterstrich oder doppelter Stern erzeugt Fettschrift:"
   ]
  },
  {
   "cell_type": "raw",
   "metadata": {},
   "source": [
    "_test_\n",
    "\n",
    "__test__\n",
    "\n",
    "*test*\n",
    "\n",
    "**test**"
   ]
  },
  {
   "cell_type": "markdown",
   "metadata": {},
   "source": [
    "_test_\n",
    "\n",
    "__test__\n",
    "\n",
    "*test*\n",
    "\n",
    "**test**"
   ]
  },
  {
   "cell_type": "markdown",
   "metadata": {},
   "source": [
    "### 5.8. Tabellen"
   ]
  },
  {
   "cell_type": "markdown",
   "metadata": {},
   "source": [
    "Es gibt inzwischen einige Erweiterungen des ursprünglichen Markdown, die z.T. von Jupyter unterstützt werden. Unter anderem gibt es das GitHub Flavored Markdown (GFM), welches auch Tabellen-Erzeugung unterstützt:"
   ]
  },
  {
   "cell_type": "raw",
   "metadata": {},
   "source": [
    "Vorname  | Nachname | Alter\n",
    "-------- | -------- | --------\n",
    "Karl     | Maier    | 21.7.1989\n",
    "Otto     | Müller   | 1.7.1999"
   ]
  },
  {
   "cell_type": "markdown",
   "metadata": {},
   "source": [
    "Vorname  | Nachname | Alter\n",
    "-------- | -------- | --------\n",
    "Karl     | Maier    | 21.7.1989\n",
    "Otto     | Müller   | 1.7.1999"
   ]
  },
  {
   "cell_type": "markdown",
   "metadata": {},
   "source": [
    "Weitere informationen hierzu finden man unter http://markdown-syntax.de/Syntax-GFM/Tabellen/"
   ]
  },
  {
   "cell_type": "markdown",
   "metadata": {},
   "source": [
    "### 5.9. Links"
   ]
  },
  {
   "cell_type": "markdown",
   "metadata": {},
   "source": [
    "Links können in Markdown auf fogende Art im Text (inline) angegeben werden:"
   ]
  },
  {
   "cell_type": "raw",
   "metadata": {},
   "source": [
    "Man findet [hier](https://de.wikipedia.org/wiki/Seiichi_Miyake \"Seiichi Miyake\") mehr zu Seiichi_Miyake."
   ]
  },
  {
   "cell_type": "markdown",
   "metadata": {},
   "source": [
    "Man findet [hier](https://de.wikipedia.org/wiki/Seiichi_Miyake \"Seiichi Miyake\") mehr zu Seiichi Miyake."
   ]
  },
  {
   "cell_type": "markdown",
   "metadata": {},
   "source": [
    "Die ersten eckigen Klammern umschließen den Text, der mit dem Link hinterlegt wird. Danach folgt ein Konstrukt aus runden Klammern, welches den Link enthält, danach ein Leerzeichen, gefolgt von einem optionalen Titel in Anführungszeichen. Wenn Links zu Dateien in der gleichen (serverseitigen) Verzeichnisstruktur führen, gelten die Regeln wie bei HTML:"
   ]
  },
  {
   "cell_type": "markdown",
   "metadata": {},
   "source": [
    "### 5.10. Bilder"
   ]
  },
  {
   "cell_type": "markdown",
   "metadata": {},
   "source": [
    "Bilder werden wie folgt eingebunden:"
   ]
  },
  {
   "cell_type": "raw",
   "metadata": {},
   "source": [
    "![Ein Pinguin](img/picture.jpg \"Ein Pinguin\")"
   ]
  },
  {
   "cell_type": "markdown",
   "metadata": {},
   "source": [
    "![Ein Pinguin](img/picture.jpg \"Ein Pinguin\")"
   ]
  },
  {
   "cell_type": "markdown",
   "metadata": {},
   "source": [
    "Statt wie hier eine relative URL zu verwenden, kann man auch eine absolute URL der Form \"http://...\" nutzen."
   ]
  },
  {
   "cell_type": "markdown",
   "metadata": {},
   "source": [
    "### 5.11. Vermischtes und weitere Quellen"
   ]
  },
  {
   "cell_type": "markdown",
   "metadata": {},
   "source": [
    "Die Möglichkeiten von Markdown wurden hier nicht vollständig dargestellt. Insbesondere wurde auch nicht auf die dieversen Erweiterungen eingegangen, die aber auch nicht alle von Jupyter unterstützt werden. Ein Beispiel ist durchgestrichener Text:"
   ]
  },
  {
   "cell_type": "raw",
   "metadata": {},
   "source": [
    "~~Diese Ausage ist wahr.~~"
   ]
  },
  {
   "cell_type": "markdown",
   "metadata": {},
   "source": [
    "~~Diese Ausage ist wahr.~~"
   ]
  },
  {
   "cell_type": "markdown",
   "metadata": {},
   "source": [
    "Eine Übersicht über Markdown, diverse Implementierungen dieses Standards und die Übersetzung in HTML findet man im [Wikipedia-Artikel](https://en.wikipedia.org/wiki/Markdown \"Markdown\") zu diesem Thema. Markdown wurde 2004 von [John Gruber](https://daringfireball.net/projects/markdown/syntax \"John Gruber\") entwickelt. Eine verbesserte Spezifikation ist [CommonMark](https://commonmark.org/ \"CommonMark\"). Hier gibt es auch ein interaktives Tutorial. Eine deutschsprachige Quelle findet sich [hier](https://markdown.de/ \"markdown.de\"). Hilfreich ist auch der [Markdown Guide](https://www.markdownguide.org/ \"Markdown Guide\")."
   ]
  },
  {
   "cell_type": "markdown",
   "metadata": {},
   "source": [
    "## 6. Mathematische Formeln"
   ]
  },
  {
   "cell_type": "markdown",
   "metadata": {},
   "source": [
    "Zur Darstellung von mathematischen Formeln nutzt Jupyter [MathJax](http://docs.mathjax.org/en/latest/mathjax.html \"MathJax\"). MathJax ermöglich unter anderem die Benutzung von Formeln im TeX/LateX-Stil. Ziel ist die publikationsreife Darstellung von Formeln. Hier wird nicht auf alle Möglichkeiten eingegangen, mit Hilfe der genannten Quellen sollte jedoch eine umfassende Nutzung möglich sein. Für die umfassende Nutzung von Jupyter, z.B. die Ausgabe eines Notebooks als PDF- oder Tex-File, sollte man eine Tex-Installation wie [MiKTeX](https://miktex.org \"MiKTeX\") installieren. Formeln werden in Markdown-Zellen eingefügt. Hier ein Beispiel:"
   ]
  },
  {
   "cell_type": "raw",
   "metadata": {},
   "source": [
    "\\begin{align}\n",
    "x = y\n",
    "\\end{align}"
   ]
  },
  {
   "cell_type": "markdown",
   "metadata": {},
   "source": [
    "\\begin{align}\n",
    "x = y\n",
    "\\end{align}"
   ]
  },
  {
   "cell_type": "markdown",
   "metadata": {},
   "source": [
    "Neben dieser Möglichkeit gibt es auch die Verwendung innerhalb eines Textes:"
   ]
  },
  {
   "cell_type": "raw",
   "metadata": {},
   "source": [
    "Hier ein einfaches Beispiel: $f(x) = \\sqrt x$. Alles klar?"
   ]
  },
  {
   "cell_type": "markdown",
   "metadata": {},
   "source": [
    "Hier ein einfaches Beispiel: $f(x) = \\sqrt(x)$. Alles klar?"
   ]
  },
  {
   "cell_type": "markdown",
   "metadata": {},
   "source": [
    "### 6.1. Einige Formeln"
   ]
  },
  {
   "cell_type": "markdown",
   "metadata": {
    "collapsed": true
   },
   "source": [
    "Grundätzlich sind viele komplexe Formelkonstrukte möglich. Wie man sieht, ist die Augabe publikationsreif:\n",
    "$$\n",
    "\\overbrace{f(x)=x^2}^{\\text{Funktion $f$}}\\\\\n",
    "\\underbrace{f'(x)=2x}_{\\text{Ableitung von $f$}}\n",
    "$$\n",
    "Hier der zugrunde liegende Code:"
   ]
  },
  {
   "cell_type": "raw",
   "metadata": {},
   "source": [
    "$$\n",
    "\\overbrace{f(x)=x^2}^{\\text{Funktion $f$}}\\\\\n",
    "\\underbrace{f'(x)=2x}_{\\text{Ableitung von $f$}}\n",
    "$$"
   ]
  },
  {
   "cell_type": "markdown",
   "metadata": {},
   "source": [
    "Wir werden hier nur ein paar Beispiele anschauen. Am Ende des Abschnitts gibt es natürlich Links zu weiterführender Literatur. Derweil mag zum Experimentieren der Online-Editor unter https://www.zahlen-kern.de/editor/ hilfreich sein."
   ]
  },
  {
   "cell_type": "markdown",
   "metadata": {},
   "source": [
    "#### 6.1.1. Exponenten und Wurzeln"
   ]
  },
  {
   "cell_type": "markdown",
   "metadata": {},
   "source": [
    "Wie man einfach eine Zahl mit einem Exponenten versieht (\"Potentieren\"), haben wir oben schon gesehen. Wie sieht es mit nicht ganzahligen Potenzen und Wurzeln aus? (Die Qaudratwurzel haben wir ebenfalls schon oben kennengelernt.)"
   ]
  },
  {
   "cell_type": "raw",
   "metadata": {},
   "source": [
    "$$\n",
    "x^{3/4} = \\sqrt[4]{x^{3}}\n",
    "$$"
   ]
  },
  {
   "cell_type": "markdown",
   "metadata": {},
   "source": [
    "$$\n",
    "x^{3/4} = \\sqrt[4]{x^{3}}\n",
    "$$"
   ]
  },
  {
   "cell_type": "markdown",
   "metadata": {},
   "source": [
    "#### 6.1.2. Summen"
   ]
  },
  {
   "cell_type": "markdown",
   "metadata": {},
   "source": [
    "Als Beispiel für eine Summe sieht man unten die empirische Verteilungsfunktion:"
   ]
  },
  {
   "cell_type": "raw",
   "metadata": {},
   "source": [
    "$$\n",
    "F(x) = \\sum_{i:a_i \\leq x} f_i\n",
    "$$"
   ]
  },
  {
   "cell_type": "markdown",
   "metadata": {},
   "source": [
    "$$\n",
    "F(x) = \\sum_{i:a_i \\leq x} f_i\n",
    "$$"
   ]
  },
  {
   "cell_type": "markdown",
   "metadata": {},
   "source": [
    "Der Aufbau einer Formel kann im Quelltext sehr unleserlich sein, für komplexere Formeln (gemeint ist hier die sichtbare Struktur einer Formel, nicht deren mathematische Bedeutung) benötigt man sicher Erfahrung oder Recherche im Web."
   ]
  },
  {
   "cell_type": "markdown",
   "metadata": {
    "collapsed": true
   },
   "source": [
    "### 6.2. Weiterführende Links"
   ]
  },
  {
   "cell_type": "markdown",
   "metadata": {},
   "source": [
    "Einige [\"motivierende Beispiele\"](https://jupyter-notebook.readthedocs.io/en/stable/examples/Notebook/Typesetting%20Equations.html) findet man in der [Dokumentation](https://jupyter-notebook.readthedocs.io/en/stable/index.html#). Die Hochschule Augsburg hat einige [Beispiele](http://python.hs-augsburg.de:8888/notebooks/DuR/Mathematische%20Formeln.ipynb) auf Deutsch parat. [Hier](https://stackoverflow.com/questions/13208286/how-to-write-latex-in-ipython-notebook) findet man eine Disussion über andere Ausgabemöglicheiten, z.B. direkt in einer Code-Zelle. Es gibt viele weitere Quellen: Suche \"Jupyter Latex\", \"Jupyter Formeln\" usw."
   ]
  },
  {
   "cell_type": "markdown",
   "metadata": {},
   "source": [
    "## 7. Ausführbarer Code"
   ]
  },
  {
   "cell_type": "markdown",
   "metadata": {},
   "source": [
    "Unter den Zelltypen im Menu \"Cells\" kann man auch den Standard voreingestellt lassen. Diese Einstellung meint nicht die unter 5.6. beschriebene Formatierungseinstellung. Hier geht es um um Code, der tatsächlich serverseitig ausgeführt wird."
   ]
  },
  {
   "cell_type": "code",
   "execution_count": 1,
   "metadata": {},
   "outputs": [
    {
     "name": "stdout",
     "output_type": "stream",
     "text": [
      "Hallo Welt!\n"
     ]
    }
   ],
   "source": [
    "print(\"Hallo Welt!\")"
   ]
  },
  {
   "cell_type": "markdown",
   "metadata": {
    "collapsed": true
   },
   "source": [
    "Gestartet wird das Skript über den Menüpunkt Cell/Run Cells. Dabei wird die Ausgabe des serverseitig ausgeführten Skripts auf den Client (Browser) umgelenkt und dort unterhalb der ausgeführten Zelle per JavaScript ausgegeben. Standardsprache ist Python. Über sogenannte Kernels lässt sich Jupyter aber so erweitern, dass auch andere Skriptsprachen wie z.B. R ausgeführt werden können. Seit Java 9 gibt es die JShell, die es ermöglichte mit einem entsrechenden Kernel selbst Java in Jupyter zunutzen, obwohl es sich hier um eine Skriptsprache handelt.Eine Liste von Kernels findet sich [hier](https://github.com/jupyter/jupyter/wiki/Jupyter-kernels). An anderer Stelle soll mehr über die Nutzung von Jupyter mit Python beschrieben werden."
   ]
  }
 ],
 "metadata": {
  "kernelspec": {
   "display_name": "Python 3",
   "language": "python",
   "name": "python3"
  },
  "language_info": {
   "codemirror_mode": {
    "name": "ipython",
    "version": 3
   },
   "file_extension": ".py",
   "mimetype": "text/x-python",
   "name": "python",
   "nbconvert_exporter": "python",
   "pygments_lexer": "ipython3",
   "version": "3.6.8"
  }
 },
 "nbformat": 4,
 "nbformat_minor": 2
}
