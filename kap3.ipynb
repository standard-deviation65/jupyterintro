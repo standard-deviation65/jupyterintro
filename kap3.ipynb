{
 "cells": [
  {
   "cell_type": "markdown",
   "metadata": {},
   "source": [
    "# Statistik mit Python\n",
    "\n",
    "## 1. Grundbegriffe\n",
    "\n",
    "### 1.1. Statistik\n",
    "In der Statistik geht es darum, aus Daten Informationen zu gewinnen. Hierbei wird eine bestimmte Gruppe von „Objekten“ betrachtet, z.B. alle Wahlberechtigten in Berlin, alle Mietwohnungen in Hamburg oder alle Störche in Deutschland. Über diese Objekte hat man Daten gesammelt, aber eben nicht über all diese Objekte, also nicht alle Wahlberechtigten in Berlin usw., sondern nur über einen Teil. Aus den Daten eines Teils dieser Objekte schließt die Statistik nun auf die Gesamtheit der betrachteten „Objekte“. Der Begriff „Objekte“ wurde hier bewusst in Anführungszeichen gesetzt, denn sie können durchaus abstrakt sein, z.B. die Syntax-Fehler in deinem Python-Programm.\n",
    "\n",
    "### 1.2. Bereiche der Statistik\n",
    "\n",
    "#### 1.2.1. Beschreibende Statistik\n",
    "Zur deskriptiven (beschreibenden) Statistik gehören die Beschreibung der gesammelten Daten, die Ermittlung von Kenngrößen wie z.B. dem Mittelwert. Auch die Bereinigung der Daten (Fehler in Datensätzen) gehört in diesen Bereich. Neben dieser Datenvalidierung gehört natürlich auch die übersichtliche Darstellung der Daten in diesen Bereich.\n",
    "\n",
    "#### 1.2.2. Explorative Statistik\n",
    "Hier geht es um das Untersuchen der Daten nach Strukturen. Diese sind manchmal auf Grund der Verarbeitung durch die beschreibende Statistik unmittelbar ersichtlich, aber nicht immer. Die genauere Erforschung der Daten kann hier weiterhelfen.\n",
    "\n",
    "#### 1.2.3. Schließende Statistik\n",
    "Auch als beurteilende, induktive oder inferentielle Statistik bekannt wird in diesem Bereich versucht, von den erhobenen Daten auf allgemeine Erkenntnisse zu folgern.\n",
    "\n",
    "### 1.3. Einführende Begriffe\n",
    "\n",
    "#### 1.3.1. Statistische Einheiten\n",
    "Hiermit sind die untersuchenden \"Objekte\" gemeint, wie z.B. Bürger Deutschlands oder Ozonmoleküle in der Luft. Bezüglich dieser Einheiten wurden Daten ermittelt, z.B. das Einkommen der Bürger. In der Statistik werden für diesen letzten Fall nicht alle Einkommen ermittelt, siehe folgende Punkte.\n",
    "\n",
    "#### 1.3.2. Grundgesamtheit\n",
    "Dies sind alle statistischen Einheiten in ihrer Geamtheit, unabhngig davon, wiewiele tatsächlich untersucht wurden, also z.B. alle Bürger Deutschlands oder alle (!) Ozonmoleküle in der Luft. Es könnten sich aber auch um alle Kunden eines Unternehmens handeln (real) oder um alle potentiellen Kunden (hypothetisch). Weiterhin kann die Grundgesamtheit endlich sein oder aber unendlich.\n",
    "\n",
    "#### 1.3.3. Stichprobe\n",
    "Die tatsächlich untersuchten Einheiten innerhalb der Grundgesamtheit. Man untersucht also nicht alle Einheiten der Grundgesamtheit, sondern nur eine (möglicherweise zufällige) Ausahl dieser. Da man von der Stichprobe auf die Grundgesamtheit schließen möchte, muss sie repräsentativ sein.\n"
   ]
  },
  {
   "cell_type": "markdown",
   "metadata": {},
   "source": [
    "\n",
    "\n"
   ]
  }
 ],
 "metadata": {
  "kernelspec": {
   "display_name": "Python 3",
   "language": "python",
   "name": "python3"
  },
  "language_info": {
   "codemirror_mode": {
    "name": "ipython",
    "version": 3
   },
   "file_extension": ".py",
   "mimetype": "text/x-python",
   "name": "python",
   "nbconvert_exporter": "python",
   "pygments_lexer": "ipython3",
   "version": "3.6.1"
  }
 },
 "nbformat": 4,
 "nbformat_minor": 2
}
